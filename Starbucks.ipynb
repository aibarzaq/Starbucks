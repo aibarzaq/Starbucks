{
 "cells": [
  {
   "cell_type": "markdown",
   "metadata": {},
   "source": [
    "## Portfolio Exercise: Starbucks\n",
    "\n",
    " \n",
    "#### Background Information\n",
    "\n",
    "The dataset you will be provided in this portfolio exercise was originally used as a take-home assignment provided by Starbucks for their job candidates. The data for this exercise consists of about 120,000 data points split in a 2:1 ratio among training and test files. In the experiment simulated by the data, an advertising promotion was tested to see if it would bring more customers to purchase a specific product priced at $10. Since it costs the company 0.15 to send out each promotion, it would be best to limit that promotion only to those that are most receptive to the promotion. Each data point includes one column indicating whether or not an individual was sent a promotion for the product, and one column indicating whether or not that individual eventually purchased that product. Each individual also has seven additional features associated with them, which are provided abstractly as V1-V7.\n",
    "\n",
    "#### Optimization Strategy\n",
    "\n",
    "Your task is to use the training data to understand what patterns in V1-V7 to indicate that a promotion should be provided to a user. Specifically, your goal is to maximize the following metrics:\n",
    "\n",
    "* **Incremental Response Rate (IRR)** \n",
    "\n",
    "IRR depicts how many more customers purchased the product with the promotion, as compared to if they didn't receive the promotion. Mathematically, it's the ratio of the number of purchasers in the promotion group to the total number of customers in the purchasers group (_treatment_) minus the ratio of the number of purchasers in the non-promotional group to the total number of customers in the non-promotional group (_control_).\n",
    "\n",
    "$$ IRR = \\frac{purch_{treat}}{cust_{treat}} - \\frac{purch_{ctrl}}{cust_{ctrl}} $$\n",
    "\n",
    "\n",
    "* **Net Incremental Revenue (NIR)**\n",
    "\n",
    "NIR depicts how much is made (or lost) by sending out the promotion. Mathematically, this is 10 times the total number of purchasers that received the promotion minus 0.15 times the number of promotions sent out, minus 10 times the number of purchasers who were not given the promotion.\n",
    "\n",
    "$$ NIR = (10\\cdot purch_{treat} - 0.15 \\cdot cust_{treat}) - 10 \\cdot purch_{ctrl}$$\n",
    "\n",
    "For a full description of what Starbucks provides to candidates see the [instructions available here](https://drive.google.com/open?id=18klca9Sef1Rs6q8DW4l7o349r8B70qXM).\n",
    "\n",
    "Below you can find the training data provided.  Explore the data and different optimization strategies.\n",
    "\n",
    "#### How To Test Your Strategy?\n",
    "\n",
    "When you feel like you have an optimization strategy, complete the `promotion_strategy` function to pass to the `test_results` function.  \n",
    "From past data, we know there are four possible outomes:\n",
    "\n",
    "Table of actual promotion vs. predicted promotion customers:  \n",
    "\n",
    "<table>\n",
    "<tr><th></th><th colspan = '2'>Actual</th></tr>\n",
    "<tr><th>Predicted</th><th>Yes</th><th>No</th></tr>\n",
    "<tr><th>Yes</th><td>I</td><td>II</td></tr>\n",
    "<tr><th>No</th><td>III</td><td>IV</td></tr>\n",
    "</table>\n",
    "\n",
    "The metrics are only being compared for the individuals we predict should obtain the promotion – that is, quadrants I and II.  Since the first set of individuals that receive the promotion (in the training set) receive it randomly, we can expect that quadrants I and II will have approximately equivalent participants.  \n",
    "\n",
    "Comparing quadrant I to II then gives an idea of how well your promotion strategy will work in the future. \n",
    "\n",
    "Get started by reading in the data below.  See how each variable or combination of variables along with a promotion influences the chance of purchasing.  When you feel like you have a strategy for who should receive a promotion, test your strategy against the test dataset used in the final `test_results` function."
   ]
  },
  {
   "cell_type": "code",
   "execution_count": 1,
   "metadata": {
    "scrolled": true
   },
   "outputs": [],
   "source": [
    "# load in packages\n",
    "from itertools import combinations\n",
    "\n",
    "from test_results import valid_results, test_results, score\n",
    "import numpy as np\n",
    "import pandas as pd\n",
    "import scipy as sp\n",
    "import sklearn as sk\n",
    "import xgboost as xgb\n",
    "from imblearn.over_sampling import SMOTE\n",
    "from statsmodels.stats.power import NormalIndPower\n",
    "from statsmodels.stats.proportion import proportion_effectsize\n",
    "\n",
    "import matplotlib.pyplot as plt\n",
    "import seaborn as sb\n",
    "%matplotlib inline"
   ]
  },
  {
   "cell_type": "code",
   "execution_count": 2,
   "metadata": {},
   "outputs": [],
   "source": [
    "# Cells for you to work and document as necessary - \n",
    "# definitely feel free to add more cells as you need"
   ]
  },
  {
   "cell_type": "code",
   "execution_count": 3,
   "metadata": {},
   "outputs": [
    {
     "data": {
      "text/html": [
       "<div>\n",
       "<style scoped>\n",
       "    .dataframe tbody tr th:only-of-type {\n",
       "        vertical-align: middle;\n",
       "    }\n",
       "\n",
       "    .dataframe tbody tr th {\n",
       "        vertical-align: top;\n",
       "    }\n",
       "\n",
       "    .dataframe thead th {\n",
       "        text-align: right;\n",
       "    }\n",
       "</style>\n",
       "<table border=\"1\" class=\"dataframe\">\n",
       "  <thead>\n",
       "    <tr style=\"text-align: right;\">\n",
       "      <th></th>\n",
       "      <th>ID</th>\n",
       "      <th>Promotion</th>\n",
       "      <th>purchase</th>\n",
       "      <th>V1</th>\n",
       "      <th>V2</th>\n",
       "      <th>V3</th>\n",
       "      <th>V4</th>\n",
       "      <th>V5</th>\n",
       "      <th>V6</th>\n",
       "      <th>V7</th>\n",
       "    </tr>\n",
       "  </thead>\n",
       "  <tbody>\n",
       "    <tr>\n",
       "      <th>0</th>\n",
       "      <td>1</td>\n",
       "      <td>No</td>\n",
       "      <td>0</td>\n",
       "      <td>2</td>\n",
       "      <td>30.443518</td>\n",
       "      <td>-1.165083</td>\n",
       "      <td>1</td>\n",
       "      <td>1</td>\n",
       "      <td>3</td>\n",
       "      <td>2</td>\n",
       "    </tr>\n",
       "    <tr>\n",
       "      <th>1</th>\n",
       "      <td>3</td>\n",
       "      <td>No</td>\n",
       "      <td>0</td>\n",
       "      <td>3</td>\n",
       "      <td>32.159350</td>\n",
       "      <td>-0.645617</td>\n",
       "      <td>2</td>\n",
       "      <td>3</td>\n",
       "      <td>2</td>\n",
       "      <td>2</td>\n",
       "    </tr>\n",
       "    <tr>\n",
       "      <th>2</th>\n",
       "      <td>4</td>\n",
       "      <td>No</td>\n",
       "      <td>0</td>\n",
       "      <td>2</td>\n",
       "      <td>30.431659</td>\n",
       "      <td>0.133583</td>\n",
       "      <td>1</td>\n",
       "      <td>1</td>\n",
       "      <td>4</td>\n",
       "      <td>2</td>\n",
       "    </tr>\n",
       "    <tr>\n",
       "      <th>3</th>\n",
       "      <td>5</td>\n",
       "      <td>No</td>\n",
       "      <td>0</td>\n",
       "      <td>0</td>\n",
       "      <td>26.588914</td>\n",
       "      <td>-0.212728</td>\n",
       "      <td>2</td>\n",
       "      <td>1</td>\n",
       "      <td>4</td>\n",
       "      <td>2</td>\n",
       "    </tr>\n",
       "    <tr>\n",
       "      <th>4</th>\n",
       "      <td>8</td>\n",
       "      <td>Yes</td>\n",
       "      <td>0</td>\n",
       "      <td>3</td>\n",
       "      <td>28.044332</td>\n",
       "      <td>-0.385883</td>\n",
       "      <td>1</td>\n",
       "      <td>1</td>\n",
       "      <td>2</td>\n",
       "      <td>2</td>\n",
       "    </tr>\n",
       "  </tbody>\n",
       "</table>\n",
       "</div>"
      ],
      "text/plain": [
       "   ID Promotion  purchase  V1         V2        V3  V4  V5  V6  V7\n",
       "0   1        No         0   2  30.443518 -1.165083   1   1   3   2\n",
       "1   3        No         0   3  32.159350 -0.645617   2   3   2   2\n",
       "2   4        No         0   2  30.431659  0.133583   1   1   4   2\n",
       "3   5        No         0   0  26.588914 -0.212728   2   1   4   2\n",
       "4   8       Yes         0   3  28.044332 -0.385883   1   1   2   2"
      ]
     },
     "execution_count": 3,
     "metadata": {},
     "output_type": "execute_result"
    }
   ],
   "source": [
    "# load in the data\n",
    "train_data = pd.read_csv('./training.csv')\n",
    "train_data.head()"
   ]
  },
  {
   "cell_type": "code",
   "execution_count": 4,
   "metadata": {},
   "outputs": [
    {
     "data": {
      "text/plain": [
       "ID           0.0\n",
       "Promotion    0.0\n",
       "purchase     0.0\n",
       "V1           0.0\n",
       "V2           0.0\n",
       "V3           0.0\n",
       "V4           0.0\n",
       "V5           0.0\n",
       "V6           0.0\n",
       "V7           0.0\n",
       "dtype: float64"
      ]
     },
     "execution_count": 4,
     "metadata": {},
     "output_type": "execute_result"
    }
   ],
   "source": [
    "# check number of missing values per column\n",
    "train_data.isnull().mean()"
   ]
  },
  {
   "cell_type": "code",
   "execution_count": 5,
   "metadata": {},
   "outputs": [
    {
     "data": {
      "text/html": [
       "<div>\n",
       "<style scoped>\n",
       "    .dataframe tbody tr th:only-of-type {\n",
       "        vertical-align: middle;\n",
       "    }\n",
       "\n",
       "    .dataframe tbody tr th {\n",
       "        vertical-align: top;\n",
       "    }\n",
       "\n",
       "    .dataframe thead th {\n",
       "        text-align: right;\n",
       "    }\n",
       "</style>\n",
       "<table border=\"1\" class=\"dataframe\">\n",
       "  <thead>\n",
       "    <tr style=\"text-align: right;\">\n",
       "      <th></th>\n",
       "      <th>ID</th>\n",
       "      <th>Promotion</th>\n",
       "      <th>purchase</th>\n",
       "      <th>V1</th>\n",
       "      <th>V2</th>\n",
       "      <th>V3</th>\n",
       "      <th>V4</th>\n",
       "      <th>V5</th>\n",
       "      <th>V6</th>\n",
       "      <th>V7</th>\n",
       "    </tr>\n",
       "  </thead>\n",
       "  <tbody>\n",
       "    <tr>\n",
       "      <th>0</th>\n",
       "      <td>2</td>\n",
       "      <td>No</td>\n",
       "      <td>0</td>\n",
       "      <td>1</td>\n",
       "      <td>41.376390</td>\n",
       "      <td>1.172517</td>\n",
       "      <td>1</td>\n",
       "      <td>1</td>\n",
       "      <td>2</td>\n",
       "      <td>2</td>\n",
       "    </tr>\n",
       "    <tr>\n",
       "      <th>1</th>\n",
       "      <td>6</td>\n",
       "      <td>Yes</td>\n",
       "      <td>0</td>\n",
       "      <td>1</td>\n",
       "      <td>25.163598</td>\n",
       "      <td>0.653050</td>\n",
       "      <td>2</td>\n",
       "      <td>2</td>\n",
       "      <td>2</td>\n",
       "      <td>2</td>\n",
       "    </tr>\n",
       "    <tr>\n",
       "      <th>2</th>\n",
       "      <td>7</td>\n",
       "      <td>Yes</td>\n",
       "      <td>0</td>\n",
       "      <td>1</td>\n",
       "      <td>26.553778</td>\n",
       "      <td>-1.597972</td>\n",
       "      <td>2</td>\n",
       "      <td>3</td>\n",
       "      <td>4</td>\n",
       "      <td>2</td>\n",
       "    </tr>\n",
       "    <tr>\n",
       "      <th>3</th>\n",
       "      <td>10</td>\n",
       "      <td>No</td>\n",
       "      <td>0</td>\n",
       "      <td>2</td>\n",
       "      <td>28.529691</td>\n",
       "      <td>-1.078506</td>\n",
       "      <td>2</td>\n",
       "      <td>3</td>\n",
       "      <td>2</td>\n",
       "      <td>2</td>\n",
       "    </tr>\n",
       "    <tr>\n",
       "      <th>4</th>\n",
       "      <td>12</td>\n",
       "      <td>No</td>\n",
       "      <td>0</td>\n",
       "      <td>2</td>\n",
       "      <td>32.378538</td>\n",
       "      <td>0.479895</td>\n",
       "      <td>2</td>\n",
       "      <td>2</td>\n",
       "      <td>1</td>\n",
       "      <td>2</td>\n",
       "    </tr>\n",
       "    <tr>\n",
       "      <th>5</th>\n",
       "      <td>13</td>\n",
       "      <td>Yes</td>\n",
       "      <td>0</td>\n",
       "      <td>0</td>\n",
       "      <td>32.566788</td>\n",
       "      <td>-1.684550</td>\n",
       "      <td>2</td>\n",
       "      <td>1</td>\n",
       "      <td>2</td>\n",
       "      <td>1</td>\n",
       "    </tr>\n",
       "    <tr>\n",
       "      <th>6</th>\n",
       "      <td>19</td>\n",
       "      <td>No</td>\n",
       "      <td>0</td>\n",
       "      <td>2</td>\n",
       "      <td>29.833921</td>\n",
       "      <td>-1.078506</td>\n",
       "      <td>1</td>\n",
       "      <td>2</td>\n",
       "      <td>3</td>\n",
       "      <td>2</td>\n",
       "    </tr>\n",
       "  </tbody>\n",
       "</table>\n",
       "</div>"
      ],
      "text/plain": [
       "   ID Promotion  purchase  V1         V2        V3  V4  V5  V6  V7\n",
       "0   2        No         0   1  41.376390  1.172517   1   1   2   2\n",
       "1   6       Yes         0   1  25.163598  0.653050   2   2   2   2\n",
       "2   7       Yes         0   1  26.553778 -1.597972   2   3   4   2\n",
       "3  10        No         0   2  28.529691 -1.078506   2   3   2   2\n",
       "4  12        No         0   2  32.378538  0.479895   2   2   1   2\n",
       "5  13       Yes         0   0  32.566788 -1.684550   2   1   2   1\n",
       "6  19        No         0   2  29.833921 -1.078506   1   2   3   2"
      ]
     },
     "execution_count": 5,
     "metadata": {},
     "output_type": "execute_result"
    }
   ],
   "source": [
    "test_data = pd.read_csv('./Test.csv')\n",
    "test_data.head(7)"
   ]
  },
  {
   "cell_type": "code",
   "execution_count": 6,
   "metadata": {},
   "outputs": [],
   "source": [
    "features = ['V1', 'V2', 'V3', 'V4', 'V5', 'V6', 'V7']"
   ]
  },
  {
   "cell_type": "code",
   "execution_count": 7,
   "metadata": {
    "scrolled": true
   },
   "outputs": [
    {
     "data": {
      "text/plain": [
       "Yes    42364\n",
       "No     42170\n",
       "Name: Promotion, dtype: int64"
      ]
     },
     "execution_count": 7,
     "metadata": {},
     "output_type": "execute_result"
    }
   ],
   "source": [
    "train_data['Promotion'].value_counts()"
   ]
  },
  {
   "cell_type": "code",
   "execution_count": 8,
   "metadata": {},
   "outputs": [
    {
     "data": {
      "text/plain": [
       "0    83494\n",
       "1     1040\n",
       "Name: purchase, dtype: int64"
      ]
     },
     "execution_count": 8,
     "metadata": {},
     "output_type": "execute_result"
    }
   ],
   "source": [
    "train_data['purchase'].value_counts()"
   ]
  },
  {
   "cell_type": "code",
   "execution_count": 9,
   "metadata": {},
   "outputs": [
    {
     "data": {
      "image/png": "[encoded data removed]",
      "text/plain": [
       "<matplotlib.figure.Figure at 0x10e092a58>"
      ]
     },
     "metadata": {},
     "output_type": "display_data"
    }
   ],
   "source": [
    "train_data[(train_data['Promotion']=='Yes') & (train_data['purchase']==1)][features].hist(figsize=(10,10));"
   ]
  },
  {
   "cell_type": "code",
   "execution_count": 10,
   "metadata": {},
   "outputs": [
    {
     "data": {
      "image/png": "[encoded data removed]",
      "text/plain": [
       "<matplotlib.figure.Figure at 0x10e4b7a58>"
      ]
     },
     "metadata": {},
     "output_type": "display_data"
    }
   ],
   "source": [
    "train_data[(train_data['Promotion']=='Yes') & (train_data['purchase']==0)][features].hist(figsize=(10,10));"
   ]
  },
  {
   "cell_type": "code",
   "execution_count": 11,
   "metadata": {},
   "outputs": [
    {
     "data": {
      "image/png": "[encoded data removed]",
      "text/plain": [
       "<matplotlib.figure.Figure at 0x110d8a748>"
      ]
     },
     "metadata": {},
     "output_type": "display_data"
    }
   ],
   "source": [
    "train_data[(train_data['Promotion']=='No') & (train_data['purchase']==1)][features].hist(figsize=(10,10));"
   ]
  },
  {
   "cell_type": "code",
   "execution_count": 12,
   "metadata": {},
   "outputs": [
    {
     "data": {
      "image/png": "[encoded data removed]",
      "text/plain": [
       "<matplotlib.figure.Figure at 0x111073198>"
      ]
     },
     "metadata": {},
     "output_type": "display_data"
    }
   ],
   "source": [
    "train_data[(train_data['Promotion']=='No') & (train_data['purchase']==0)][features].hist(figsize=(10,10));"
   ]
  },
  {
   "cell_type": "code",
   "execution_count": 13,
   "metadata": {},
   "outputs": [
    {
     "data": {
      "image/png": "[encoded data removed]",
      "text/plain": [
       "<matplotlib.figure.Figure at 0x110fa8208>"
      ]
     },
     "metadata": {},
     "output_type": "display_data"
    }
   ],
   "source": [
    "test_data[(test_data['Promotion']=='Yes') & (test_data['purchase']==1)][features].hist(figsize=(10,10));"
   ]
  },
  {
   "cell_type": "code",
   "execution_count": 14,
   "metadata": {},
   "outputs": [
    {
     "data": {
      "image/png": "[encoded data removed]",
      "text/plain": [
       "<matplotlib.figure.Figure at 0x110df10f0>"
      ]
     },
     "metadata": {},
     "output_type": "display_data"
    }
   ],
   "source": [
    "test_data[(test_data['Promotion']=='Yes') & (test_data['purchase']==0)][features].hist(figsize=(10,10));"
   ]
  },
  {
   "cell_type": "code",
   "execution_count": 15,
   "metadata": {},
   "outputs": [
    {
     "data": {
      "image/png": "[encoded data removed]",
      "text/plain": [
       "<matplotlib.figure.Figure at 0x10f4e42b0>"
      ]
     },
     "metadata": {},
     "output_type": "display_data"
    }
   ],
   "source": [
    "test_data[(test_data['Promotion']=='No') & (test_data['purchase']==1)][features].hist(figsize=(10,10));"
   ]
  },
  {
   "cell_type": "code",
   "execution_count": 16,
   "metadata": {},
   "outputs": [
    {
     "data": {
      "image/png": "[encoded data removed]",
      "text/plain": [
       "<matplotlib.figure.Figure at 0x107339b70>"
      ]
     },
     "metadata": {},
     "output_type": "display_data"
    }
   ],
   "source": [
    "test_data[(test_data['Promotion']=='No') & (test_data['purchase']==0)][features].hist(figsize=(10,10));"
   ]
  },
  {
   "cell_type": "code",
   "execution_count": 17,
   "metadata": {},
   "outputs": [],
   "source": [
    "# testing baseline model, where we send promotions to everyone\n",
    "\n",
    "def promotion_strategy(df):\n",
    "    '''\n",
    "    INPUT \n",
    "    df - a dataframe with *only* the columns V1 - V7 (same as train_data)\n",
    "\n",
    "    OUTPUT\n",
    "    promotion_df - np.array with the values\n",
    "                   'Yes' or 'No' related to whether or not an \n",
    "                   individual should recieve a promotion \n",
    "                   should be the length of df.shape[0]            \n",
    "    Ex:\n",
    "    INPUT: df\n",
    "    \n",
    "    V1\tV2\t  V3\tV4\tV5\tV6\tV7\n",
    "    2\t30\t-1.1\t1\t1\t3\t2\n",
    "    3\t32\t-0.6\t2\t3\t2\t2\n",
    "    2\t30\t0.13\t1\t1\t4\t2\n",
    "    \n",
    "    OUTPUT: promotion\n",
    "    \n",
    "    array(['Yes', 'Yes', 'No'])\n",
    "    indicating the first two users would recieve the promotion and \n",
    "    the last should not.\n",
    "    '''\n",
    "    test = df\n",
    "    \n",
    "    promotion = []\n",
    "    \n",
    "    num_test_points = test.shape[0]\n",
    "    \n",
    "    for i in range(num_test_points):\n",
    "        promotion.append('Yes')\n",
    "        \n",
    "    promotion = np.array(promotion)\n",
    "    \n",
    "    return promotion"
   ]
  },
  {
   "cell_type": "code",
   "execution_count": 18,
   "metadata": {},
   "outputs": [
    {
     "name": "stdout",
     "output_type": "stream",
     "text": [
      "Nice job!  See how well your strategy worked on our test data below!\n",
      "\n",
      "Your irr with this strategy is 0.0096.\n",
      "\n",
      "Your nir with this strategy is -1132.20.\n",
      "We came up with a model with an irr of 0.0188 and an nir of 189.45 on the test set.\n",
      "\n",
      " How did you do?\n"
     ]
    },
    {
     "data": {
      "text/plain": [
       "(0.009593158278250108, -1132.1999999999998)"
      ]
     },
     "execution_count": 18,
     "metadata": {},
     "output_type": "execute_result"
    }
   ],
   "source": [
    "# This will test your results, and provide you back some information \n",
    "# on how well your promotion_strategy will work in practice\n",
    "\n",
    "test_results(promotion_strategy)"
   ]
  },
  {
   "cell_type": "code",
   "execution_count": 19,
   "metadata": {},
   "outputs": [
    {
     "data": {
      "text/plain": [
       "5089.265513625437"
      ]
     },
     "execution_count": 19,
     "metadata": {},
     "output_type": "execute_result"
    }
   ],
   "source": [
    "# Check sample size needed for control and treatment groups\n",
    "NormalIndPower().solve_power(effect_size = proportion_effectsize(.0096, .015), alpha = .05, power = 0.8,\n",
    "                             alternative = 'smaller')"
   ]
  },
  {
   "cell_type": "code",
   "execution_count": 20,
   "metadata": {},
   "outputs": [
    {
     "data": {
      "text/plain": [
       "42364"
      ]
     },
     "execution_count": 20,
     "metadata": {},
     "output_type": "execute_result"
    }
   ],
   "source": [
    "# calculate our current treatment group size\n",
    "train_data[train_data['Promotion']=='Yes'].shape[0]"
   ]
  },
  {
   "cell_type": "code",
   "execution_count": 21,
   "metadata": {
    "scrolled": true
   },
   "outputs": [
    {
     "data": {
      "text/plain": [
       "42170"
      ]
     },
     "execution_count": 21,
     "metadata": {},
     "output_type": "execute_result"
    }
   ],
   "source": [
    "# calculate our current control group size\n",
    "train_data[train_data['Promotion']=='No'].shape[0]"
   ]
  },
  {
   "cell_type": "markdown",
   "metadata": {},
   "source": [
    "If we were to send everyone a promotion, our IRR is 0.96\\% and NIR is -\\\\$1,132.20. This will be the baseline model. Hence, blindly sending everyone a promotion is going to lose the company a lot of money.\n",
    "\n",
    "Our baseline IRR is 0.096\\%. If our desired minimum IRR is 1.5\\% (an 0.081\\% absolute increase in IRR), and we want to detect this change with a type 1 error rate of 0.05 and a power of 0.80, we will need a sample size of approximately 5,090 in each group (both control and treatment). Since, we have more than 40,000 data points in each group, we have sufficient data"
   ]
  },
  {
   "cell_type": "markdown",
   "metadata": {},
   "source": [
    "## Model 1: Predict only for indivduals who received promotions and purchased\n",
    "\n",
    "In this approach, we will assign labels of 1 to those who received the promotions and made purchases, and labels of 0 to everyone else. In other words, we want the model to find the individuals who are likely to purchase only after they received a promotion. This is a simple model that surprisingly performed relatively well for this dataset, generating an incremental response rate (irr) of 2.19\\% and a net incrmental revenue (nlr) of \\\\$332.70. This actually outperformed the Starbuck's model for this dataset, which was an irr of 1.88\\% and an nlr of \\\\$189.45. However, since the irr and nlr on the validation set is lower at 1.93\\% and \\\\$94.70,the model's relatively good performance on the test set may be due to random chance. Overall, it still performed superbly for such a simple model."
   ]
  },
  {
   "cell_type": "code",
   "execution_count": 22,
   "metadata": {},
   "outputs": [],
   "source": [
    "# read data\n",
    "train_data = pd.read_csv('./training.csv')\n",
    "test_data = pd.read_csv('./Test.csv')"
   ]
  },
  {
   "cell_type": "code",
   "execution_count": 23,
   "metadata": {},
   "outputs": [],
   "source": [
    "# generate labels\n",
    "# only those who made a purchase after receiving a promotion will be assigned a label of 1, \n",
    "# while the other individuals will be given a label of 0\n",
    "\n",
    "response = []\n",
    "\n",
    "for index, row in train_data.iterrows():\n",
    "    if (row['purchase'] == 1) and (row['Promotion']=='Yes'):\n",
    "        response.append(1.0)\n",
    "    else:\n",
    "        response.append(0.0)\n",
    "        \n",
    "train_data['response'] = response"
   ]
  },
  {
   "cell_type": "code",
   "execution_count": 24,
   "metadata": {},
   "outputs": [
    {
     "data": {
      "text/html": [
       "<div>\n",
       "<style scoped>\n",
       "    .dataframe tbody tr th:only-of-type {\n",
       "        vertical-align: middle;\n",
       "    }\n",
       "\n",
       "    .dataframe tbody tr th {\n",
       "        vertical-align: top;\n",
       "    }\n",
       "\n",
       "    .dataframe thead th {\n",
       "        text-align: right;\n",
       "    }\n",
       "</style>\n",
       "<table border=\"1\" class=\"dataframe\">\n",
       "  <thead>\n",
       "    <tr style=\"text-align: right;\">\n",
       "      <th></th>\n",
       "      <th>ID</th>\n",
       "      <th>Promotion</th>\n",
       "      <th>purchase</th>\n",
       "      <th>V1</th>\n",
       "      <th>V2</th>\n",
       "      <th>V3</th>\n",
       "      <th>V4</th>\n",
       "      <th>V5</th>\n",
       "      <th>V6</th>\n",
       "      <th>V7</th>\n",
       "      <th>response</th>\n",
       "    </tr>\n",
       "  </thead>\n",
       "  <tbody>\n",
       "    <tr>\n",
       "      <th>0</th>\n",
       "      <td>1</td>\n",
       "      <td>No</td>\n",
       "      <td>0</td>\n",
       "      <td>2</td>\n",
       "      <td>30.443518</td>\n",
       "      <td>-1.165083</td>\n",
       "      <td>1</td>\n",
       "      <td>1</td>\n",
       "      <td>3</td>\n",
       "      <td>2</td>\n",
       "      <td>0.0</td>\n",
       "    </tr>\n",
       "    <tr>\n",
       "      <th>1</th>\n",
       "      <td>3</td>\n",
       "      <td>No</td>\n",
       "      <td>0</td>\n",
       "      <td>3</td>\n",
       "      <td>32.159350</td>\n",
       "      <td>-0.645617</td>\n",
       "      <td>2</td>\n",
       "      <td>3</td>\n",
       "      <td>2</td>\n",
       "      <td>2</td>\n",
       "      <td>0.0</td>\n",
       "    </tr>\n",
       "    <tr>\n",
       "      <th>2</th>\n",
       "      <td>4</td>\n",
       "      <td>No</td>\n",
       "      <td>0</td>\n",
       "      <td>2</td>\n",
       "      <td>30.431659</td>\n",
       "      <td>0.133583</td>\n",
       "      <td>1</td>\n",
       "      <td>1</td>\n",
       "      <td>4</td>\n",
       "      <td>2</td>\n",
       "      <td>0.0</td>\n",
       "    </tr>\n",
       "    <tr>\n",
       "      <th>3</th>\n",
       "      <td>5</td>\n",
       "      <td>No</td>\n",
       "      <td>0</td>\n",
       "      <td>0</td>\n",
       "      <td>26.588914</td>\n",
       "      <td>-0.212728</td>\n",
       "      <td>2</td>\n",
       "      <td>1</td>\n",
       "      <td>4</td>\n",
       "      <td>2</td>\n",
       "      <td>0.0</td>\n",
       "    </tr>\n",
       "    <tr>\n",
       "      <th>4</th>\n",
       "      <td>8</td>\n",
       "      <td>Yes</td>\n",
       "      <td>0</td>\n",
       "      <td>3</td>\n",
       "      <td>28.044332</td>\n",
       "      <td>-0.385883</td>\n",
       "      <td>1</td>\n",
       "      <td>1</td>\n",
       "      <td>2</td>\n",
       "      <td>2</td>\n",
       "      <td>0.0</td>\n",
       "    </tr>\n",
       "  </tbody>\n",
       "</table>\n",
       "</div>"
      ],
      "text/plain": [
       "   ID Promotion  purchase  V1         V2        V3  V4  V5  V6  V7  response\n",
       "0   1        No         0   2  30.443518 -1.165083   1   1   3   2       0.0\n",
       "1   3        No         0   3  32.159350 -0.645617   2   3   2   2       0.0\n",
       "2   4        No         0   2  30.431659  0.133583   1   1   4   2       0.0\n",
       "3   5        No         0   0  26.588914 -0.212728   2   1   4   2       0.0\n",
       "4   8       Yes         0   3  28.044332 -0.385883   1   1   2   2       0.0"
      ]
     },
     "execution_count": 24,
     "metadata": {},
     "output_type": "execute_result"
    }
   ],
   "source": [
    "train_data.head()"
   ]
  },
  {
   "cell_type": "code",
   "execution_count": 25,
   "metadata": {},
   "outputs": [],
   "source": [
    "# split data into train and valid\n",
    "train, valid = sk.model_selection.train_test_split(train_data, test_size=0.2,random_state=42)"
   ]
  },
  {
   "cell_type": "code",
   "execution_count": 26,
   "metadata": {},
   "outputs": [],
   "source": [
    "# generate features and labels\n",
    "Y_train = train['response']\n",
    "X_train = train[features]\n",
    "\n",
    "Y_valid = valid['response']\n",
    "X_valid = valid[features]"
   ]
  },
  {
   "cell_type": "code",
   "execution_count": 27,
   "metadata": {},
   "outputs": [
    {
     "data": {
      "text/plain": [
       "0.0    67047\n",
       "1.0      580\n",
       "Name: response, dtype: int64"
      ]
     },
     "execution_count": 27,
     "metadata": {},
     "output_type": "execute_result"
    }
   ],
   "source": [
    "Y_train.value_counts()"
   ]
  },
  {
   "cell_type": "code",
   "execution_count": 28,
   "metadata": {},
   "outputs": [],
   "source": [
    "# up sample only the train dataset with SMOTE\n",
    "sm = SMOTE(random_state=42, ratio = 1.0)\n",
    "X_train_upsamp, Y_train_upsamp = sm.fit_sample(X_train, Y_train)\n",
    "    \n",
    "X_train_upsamp = pd.DataFrame(X_train_upsamp, columns=features)\n",
    "\n",
    "Y_train_upsamp = pd.Series(Y_train_upsamp)"
   ]
  },
  {
   "cell_type": "code",
   "execution_count": 29,
   "metadata": {},
   "outputs": [
    {
     "name": "stdout",
     "output_type": "stream",
     "text": [
      "[0]\tvalidation_0-auc:0.891992\tvalidation_1-auc:0.645481\n",
      "Multiple eval metrics have been passed: 'validation_1-auc' will be used for early stopping.\n",
      "\n",
      "Will train until validation_1-auc hasn't improved in 30 rounds.\n",
      "[1]\tvalidation_0-auc:0.898054\tvalidation_1-auc:0.653202\n",
      "[2]\tvalidation_0-auc:0.906917\tvalidation_1-auc:0.65697\n",
      "[3]\tvalidation_0-auc:0.915775\tvalidation_1-auc:0.658408\n",
      "[4]\tvalidation_0-auc:0.934996\tvalidation_1-auc:0.655914\n",
      "[5]\tvalidation_0-auc:0.935649\tvalidation_1-auc:0.651876\n",
      "[6]\tvalidation_0-auc:0.935016\tvalidation_1-auc:0.654039\n",
      "[7]\tvalidation_0-auc:0.943776\tvalidation_1-auc:0.655699\n",
      "[8]\tvalidation_0-auc:0.944752\tvalidation_1-auc:0.650929\n",
      "[9]\tvalidation_0-auc:0.950239\tvalidation_1-auc:0.648446\n",
      "[10]\tvalidation_0-auc:0.950787\tvalidation_1-auc:0.648789\n",
      "[11]\tvalidation_0-auc:0.957777\tvalidation_1-auc:0.648527\n",
      "[12]\tvalidation_0-auc:0.959635\tvalidation_1-auc:0.645952\n",
      "[13]\tvalidation_0-auc:0.961191\tvalidation_1-auc:0.644991\n",
      "[14]\tvalidation_0-auc:0.963264\tvalidation_1-auc:0.644359\n",
      "[15]\tvalidation_0-auc:0.964559\tvalidation_1-auc:0.643373\n",
      "[16]\tvalidation_0-auc:0.96789\tvalidation_1-auc:0.642907\n",
      "[17]\tvalidation_0-auc:0.971348\tvalidation_1-auc:0.643167\n",
      "[18]\tvalidation_0-auc:0.971811\tvalidation_1-auc:0.642867\n",
      "[19]\tvalidation_0-auc:0.972129\tvalidation_1-auc:0.640521\n",
      "[20]\tvalidation_0-auc:0.972874\tvalidation_1-auc:0.641371\n",
      "[21]\tvalidation_0-auc:0.974931\tvalidation_1-auc:0.641463\n",
      "[22]\tvalidation_0-auc:0.975742\tvalidation_1-auc:0.641142\n",
      "[23]\tvalidation_0-auc:0.975969\tvalidation_1-auc:0.641459\n",
      "[24]\tvalidation_0-auc:0.976825\tvalidation_1-auc:0.641571\n",
      "[25]\tvalidation_0-auc:0.978049\tvalidation_1-auc:0.639893\n",
      "[26]\tvalidation_0-auc:0.978595\tvalidation_1-auc:0.640487\n",
      "[27]\tvalidation_0-auc:0.979204\tvalidation_1-auc:0.640151\n",
      "[28]\tvalidation_0-auc:0.980176\tvalidation_1-auc:0.641093\n",
      "[29]\tvalidation_0-auc:0.98085\tvalidation_1-auc:0.638883\n",
      "[30]\tvalidation_0-auc:0.981953\tvalidation_1-auc:0.639622\n",
      "[31]\tvalidation_0-auc:0.982504\tvalidation_1-auc:0.639453\n",
      "[32]\tvalidation_0-auc:0.983063\tvalidation_1-auc:0.639492\n",
      "[33]\tvalidation_0-auc:0.98367\tvalidation_1-auc:0.640488\n",
      "Stopping. Best iteration:\n",
      "[3]\tvalidation_0-auc:0.915775\tvalidation_1-auc:0.658408\n",
      "\n"
     ]
    },
    {
     "data": {
      "text/plain": [
       "XGBClassifier(base_score=0.5, booster='gbtree', colsample_bylevel=1,\n",
       "       colsample_bytree=1, gamma=0.1, learning_rate=0.1, max_delta_step=0,\n",
       "       max_depth=7, min_child_weight=5, missing=None, n_estimators=100,\n",
       "       n_jobs=1, nthread=None, objective='binary:logistic', random_state=0,\n",
       "       reg_alpha=0, reg_lambda=1, scale_pos_weight=1, seed=42, silent=True,\n",
       "       subsample=1)"
      ]
     },
     "execution_count": 29,
     "metadata": {},
     "output_type": "execute_result"
    }
   ],
   "source": [
    "# Train an xgboost model\n",
    "eval_set = [(X_train_upsamp, Y_train_upsamp), (X_valid, Y_valid)]\n",
    "model = xgb.XGBClassifier(learning_rate = 0.1,\\\n",
    "                          max_depth = 7,\\\n",
    "                          min_child_weight = 5,\\\n",
    "                          objective = 'binary:logistic',\\\n",
    "                          seed = 42,\\\n",
    "                          gamma = 0.1,\\\n",
    "                          silent = True)\n",
    "model.fit(X_train_upsamp, Y_train_upsamp, eval_set=eval_set,\\\n",
    "          eval_metric=\"auc\", verbose=True, early_stopping_rounds=30)"
   ]
  },
  {
   "cell_type": "code",
   "execution_count": 30,
   "metadata": {},
   "outputs": [
    {
     "data": {
      "image/png": "[encoded data removed]",
      "text/plain": [
       "<matplotlib.figure.Figure at 0x110e221d0>"
      ]
     },
     "metadata": {},
     "output_type": "display_data"
    }
   ],
   "source": [
    "# check which features are important\n",
    "\n",
    "from xgboost import plot_importance\n",
    "from matplotlib import pyplot\n",
    "\n",
    "fig, ax = pyplot.subplots(figsize=(10, 18));\n",
    "xgb.plot_importance(model, ax=ax);"
   ]
  },
  {
   "cell_type": "code",
   "execution_count": 31,
   "metadata": {},
   "outputs": [
    {
     "data": {
      "text/plain": [
       "array([[12684,  4082],\n",
       "       [   83,    58]])"
      ]
     },
     "execution_count": 31,
     "metadata": {},
     "output_type": "execute_result"
    }
   ],
   "source": [
    "# confusion matrix\n",
    "valid_pred = model.predict(X_valid, ntree_limit=model.best_ntree_limit)\n",
    "cm = sk.metrics.confusion_matrix\n",
    "cm(Y_valid, valid_pred)"
   ]
  },
  {
   "cell_type": "code",
   "execution_count": 32,
   "metadata": {},
   "outputs": [
    {
     "data": {
      "image/png": "[encoded data removed]",
      "text/plain": [
       "<matplotlib.figure.Figure at 0x10f275ef0>"
      ]
     },
     "metadata": {},
     "output_type": "display_data"
    }
   ],
   "source": [
    "# confusion marix for thge validation set\n",
    "valid_pred = model.predict(X_valid, ntree_limit=model.best_ntree_limit)\n",
    "cm = sk.metrics.confusion_matrix(Y_valid, valid_pred)\n",
    "\n",
    "fig, ax= plt.subplots(figsize=(10,10))\n",
    "sb.heatmap(cm, annot=True, fmt='g', ax = ax); #annot=True to annotate cells\n",
    "\n",
    "# labels, title and ticks\n",
    "ax.set_xlabel('Predicted labels');\n",
    "ax.set_ylabel('True labels'); \n",
    "ax.set_title('Confusion Matrix'); \n",
    "ax.xaxis.set_ticklabels(['No Purchase', 'Made Purchase']); \n",
    "ax.yaxis.set_ticklabels(['No Purchase', 'Made Purchase']);"
   ]
  },
  {
   "cell_type": "code",
   "execution_count": 33,
   "metadata": {},
   "outputs": [],
   "source": [
    "def promotion_strategy(df):\n",
    "    '''\n",
    "    INPUT \n",
    "    df - a dataframe with *only* the columns V1 - V7 (same as train_data)\n",
    "\n",
    "    OUTPUT\n",
    "    promotion_df - np.array with the values\n",
    "                   'Yes' or 'No' related to whether or not an \n",
    "                   individual should recieve a promotion \n",
    "                   should be the length of df.shape[0]\n",
    "                \n",
    "    Ex:\n",
    "    INPUT: df\n",
    "    \n",
    "    V1\tV2\t  V3\tV4\tV5\tV6\tV7\n",
    "    2\t30\t-1.1\t1\t1\t3\t2\n",
    "    3\t32\t-0.6\t2\t3\t2\t2\n",
    "    2\t30\t0.13\t1\t1\t4\t2\n",
    "    \n",
    "    OUTPUT: promotion\n",
    "    \n",
    "    array(['Yes', 'Yes', 'No'])\n",
    "    indicating the first two users would recieve the promotion and \n",
    "    the last should not.\n",
    "    '''\n",
    "    test = df\n",
    "    \n",
    "    preds = model.predict(test, ntree_limit=model.best_ntree_limit)\n",
    "\n",
    "    promotion = []\n",
    "    for pred in preds:\n",
    "        if pred == 1:\n",
    "            promotion.append('Yes')\n",
    "        else:\n",
    "            promotion.append('No')\n",
    "    promotion = np.array(promotion)\n",
    "    return promotion"
   ]
  },
  {
   "cell_type": "code",
   "execution_count": 34,
   "metadata": {},
   "outputs": [
    {
     "name": "stdout",
     "output_type": "stream",
     "text": [
      "Nice job!  See how well your strategy worked on our valid data below!\n",
      "\n",
      "Your irr with this strategy is 0.0193.\n",
      "\n",
      "Your nir with this strategy is 94.70.\n",
      "We came up with a model with an irr of 0.0188 and an nir of 189.45 on the test set.\n",
      "\n",
      " How did you do?\n"
     ]
    },
    {
     "data": {
      "text/plain": [
       "(0.01925125750605293, 94.69999999999999)"
      ]
     },
     "execution_count": 34,
     "metadata": {},
     "output_type": "execute_result"
    }
   ],
   "source": [
    "# test irr and nlr on our validation set\n",
    "valid_results(promotion_strategy, valid)"
   ]
  },
  {
   "cell_type": "code",
   "execution_count": 35,
   "metadata": {},
   "outputs": [
    {
     "name": "stdout",
     "output_type": "stream",
     "text": [
      "Nice job!  See how well your strategy worked on our test data below!\n",
      "\n",
      "Your irr with this strategy is 0.0219.\n",
      "\n",
      "Your nir with this strategy is 332.70.\n",
      "We came up with a model with an irr of 0.0188 and an nir of 189.45 on the test set.\n",
      "\n",
      " How did you do?\n"
     ]
    },
    {
     "data": {
      "text/plain": [
       "(0.02185148545762388, 332.70000000000005)"
      ]
     },
     "execution_count": 35,
     "metadata": {},
     "output_type": "execute_result"
    }
   ],
   "source": [
    "# This will test your results, and provide you back some information \n",
    "# on how well your promotion_strategy will work in practice\n",
    "\n",
    "test_results(promotion_strategy)"
   ]
  },
  {
   "cell_type": "markdown",
   "metadata": {},
   "source": [
    "## Model 2: Using Two Models\n",
    "\n",
    "In this approach, we will train two models. One model will be trained on the treatment group (those who received the promotion) and we will refer to this model as the treatment model. Another model will be trained on the control group (those who did not received the promotion), and we will refer to this as the control model. The target of both models will be whether the individual made the purchase or not. The treatment model will predict the probability that individual will make a purchase if he or she received the promotion, while the control model will predict the probability that individual will make a purchase if he or she did not receive the promotion. Ideally the difference in the probabilities, which we will call the lift:\n",
    "\n",
    "$$ Lift = P(purchase | treatment) - P(purchase | control) $$\n",
    "\n",
    "will tell us the probability that sending a promotion to an individual will increase his or her willingness to make a purhcase vs not sending a promotion. We can then send promotions to individuals with lift values higher than a pre-defined cutoff percentile. For example, we can send promotions to individuals in the top 3 deciles.\n",
    "\n",
    "For this dataset, we can manually try a few cutoff percentiles or perform a grid search to find the optimal cut-off percentile. In this example, a manual search was conducted for simplicity sake. The performance of this model left a lot to be desired. Sending out promotions to individuals with lift values above the 97th percentile seems to be one of the better option. An irr of 0.44\\% and nlr of \\\\$26.90 is achieved on the validation set. On the other hand, an irr of 1.76\\% and nlr of \\\\$12.70 is achieved for the test data, which is not as good as the Starbuck's model. It should also be noted that this method is extremely sensitive to changes in the cut-off percentile used for this dataset. Both the addition or subtraction of a few percentiles resulted in drastically different nlr. Hence, the two model approach is not recommended for this data set.\n",
    "\n",
    "As noted in the presentation on Uplift Modeling by Victor Lo found [here](https://www.slideshare.net/odsc/victor-lomachinelearningpresentation), one of the disadvantages of this method is that it indirectly models uplift. The difference between the treatment and control probabilities may sometimes be noise. In addition, there is also the possibility that the scales of both models don't match."
   ]
  },
  {
   "cell_type": "code",
   "execution_count": 36,
   "metadata": {},
   "outputs": [],
   "source": [
    "# read data\n",
    "train_data = pd.read_csv('./training.csv')\n",
    "test_data = pd.read_csv('./Test.csv')"
   ]
  },
  {
   "cell_type": "code",
   "execution_count": 37,
   "metadata": {},
   "outputs": [],
   "source": [
    "# split data into train and valid\n",
    "train, valid = sk.model_selection.train_test_split(train_data, test_size=0.2,random_state=42)"
   ]
  },
  {
   "cell_type": "code",
   "execution_count": 38,
   "metadata": {},
   "outputs": [],
   "source": [
    "features = ['V1', 'V2', 'V3', 'V4', 'V5', 'V6', 'V7']\n",
    "\n",
    "# Generate validation data\n",
    "# one for control group, another for treatment group\n",
    "valid_control = valid[valid['Promotion']=='No']\n",
    "Y_valid_control = valid_control['purchase']\n",
    "X_valid_control = valid_control[features]\n",
    "\n",
    "valid_exper = valid[valid['Promotion']=='Yes']\n",
    "Y_valid_exper = valid_exper['purchase']\n",
    "X_valid_exper = valid_exper[features]"
   ]
  },
  {
   "cell_type": "code",
   "execution_count": 39,
   "metadata": {},
   "outputs": [],
   "source": [
    "# generate training data\n",
    "train_control = train[train['Promotion']=='No']\n",
    "Y_train_control = train_control['purchase']\n",
    "X_train_control = train_control[features]\n",
    "\n",
    "train_exper = train[train['Promotion']=='Yes']\n",
    "Y_train_exper = train_exper['purchase']\n",
    "X_train_exper = train_exper[features]"
   ]
  },
  {
   "cell_type": "code",
   "execution_count": 40,
   "metadata": {},
   "outputs": [],
   "source": [
    "# up-sample training data with SMOTE\n",
    "sm = SMOTE(random_state=42, ratio = 1.0)\n",
    "\n",
    "# up-sample control group\n",
    "X_train_control_upsamp, Y_train_control_upsamp = sm.fit_sample(X_train_control, Y_train_control)\n",
    "X_train_control_upsamp = pd.DataFrame(X_train_control_upsamp, columns=features)\n",
    "Y_train_control_upsamp = pd.Series(Y_train_control_upsamp)\n",
    "\n",
    "# up-sample treatment group\n",
    "X_train_exper_upsamp, Y_train_exper_upsamp = sm.fit_sample(X_train_exper, Y_train_exper)    \n",
    "X_train_exper_upsamp = pd.DataFrame(X_train_exper_upsamp, columns=features)\n",
    "Y_train_exper_upsamp = pd.Series(Y_train_exper_upsamp)"
   ]
  },
  {
   "cell_type": "code",
   "execution_count": 41,
   "metadata": {},
   "outputs": [
    {
     "name": "stdout",
     "output_type": "stream",
     "text": [
      "[0]\tvalidation_0-auc:0.927669\tvalidation_1-auc:0.520814\n",
      "Multiple eval metrics have been passed: 'validation_1-auc' will be used for early stopping.\n",
      "\n",
      "Will train until validation_1-auc hasn't improved in 30 rounds.\n",
      "[1]\tvalidation_0-auc:0.929149\tvalidation_1-auc:0.521929\n",
      "[2]\tvalidation_0-auc:0.958296\tvalidation_1-auc:0.526606\n",
      "[3]\tvalidation_0-auc:0.959648\tvalidation_1-auc:0.519001\n",
      "[4]\tvalidation_0-auc:0.960095\tvalidation_1-auc:0.520977\n",
      "[5]\tvalidation_0-auc:0.982338\tvalidation_1-auc:0.514844\n",
      "[6]\tvalidation_0-auc:0.98125\tvalidation_1-auc:0.510661\n",
      "[7]\tvalidation_0-auc:0.982303\tvalidation_1-auc:0.507793\n",
      "[8]\tvalidation_0-auc:0.984336\tvalidation_1-auc:0.501206\n",
      "[9]\tvalidation_0-auc:0.985167\tvalidation_1-auc:0.497971\n",
      "[10]\tvalidation_0-auc:0.988254\tvalidation_1-auc:0.503657\n",
      "[11]\tvalidation_0-auc:0.988485\tvalidation_1-auc:0.50131\n",
      "[12]\tvalidation_0-auc:0.988038\tvalidation_1-auc:0.501582\n",
      "[13]\tvalidation_0-auc:0.989287\tvalidation_1-auc:0.499816\n",
      "[14]\tvalidation_0-auc:0.989877\tvalidation_1-auc:0.497989\n",
      "[15]\tvalidation_0-auc:0.990723\tvalidation_1-auc:0.499119\n",
      "[16]\tvalidation_0-auc:0.990855\tvalidation_1-auc:0.498099\n",
      "[17]\tvalidation_0-auc:0.991672\tvalidation_1-auc:0.501882\n",
      "[18]\tvalidation_0-auc:0.99194\tvalidation_1-auc:0.501319\n",
      "[19]\tvalidation_0-auc:0.992123\tvalidation_1-auc:0.500781\n",
      "[20]\tvalidation_0-auc:0.992141\tvalidation_1-auc:0.504373\n",
      "[21]\tvalidation_0-auc:0.992245\tvalidation_1-auc:0.50751\n",
      "[22]\tvalidation_0-auc:0.992209\tvalidation_1-auc:0.506389\n",
      "[23]\tvalidation_0-auc:0.992645\tvalidation_1-auc:0.505251\n",
      "[24]\tvalidation_0-auc:0.992646\tvalidation_1-auc:0.506496\n",
      "[25]\tvalidation_0-auc:0.992918\tvalidation_1-auc:0.508007\n",
      "[26]\tvalidation_0-auc:0.993117\tvalidation_1-auc:0.503449\n",
      "[27]\tvalidation_0-auc:0.993323\tvalidation_1-auc:0.502685\n",
      "[28]\tvalidation_0-auc:0.994348\tvalidation_1-auc:0.50238\n",
      "[29]\tvalidation_0-auc:0.994377\tvalidation_1-auc:0.500748\n",
      "[30]\tvalidation_0-auc:0.994603\tvalidation_1-auc:0.500844\n",
      "[31]\tvalidation_0-auc:0.994656\tvalidation_1-auc:0.500312\n",
      "[32]\tvalidation_0-auc:0.995343\tvalidation_1-auc:0.498913\n",
      "Stopping. Best iteration:\n",
      "[2]\tvalidation_0-auc:0.958296\tvalidation_1-auc:0.526606\n",
      "\n"
     ]
    },
    {
     "data": {
      "text/plain": [
       "XGBClassifier(base_score=0.5, booster='gbtree', colsample_bylevel=1,\n",
       "       colsample_bytree=1, gamma=1, learning_rate=0.1, max_delta_step=0,\n",
       "       max_depth=7, min_child_weight=5, missing=None, n_estimators=100,\n",
       "       n_jobs=1, nthread=None, objective='binary:logistic', random_state=0,\n",
       "       reg_alpha=0, reg_lambda=1, scale_pos_weight=1, seed=42, silent=True,\n",
       "       subsample=1)"
      ]
     },
     "execution_count": 41,
     "metadata": {},
     "output_type": "execute_result"
    }
   ],
   "source": [
    "# train control model\n",
    "eval_set = [(X_train_control_upsamp, Y_train_control_upsamp), (X_valid_control, Y_valid_control)]\n",
    "model_control = xgb.XGBClassifier(learning_rate = 0.1,\\\n",
    "                                  max_depth = 7,\\\n",
    "                                  min_child_weight = 5,\\\n",
    "                                  objective = 'binary:logistic',\\\n",
    "                                  seed = 42,\\\n",
    "                                  gamma = 1,\\\n",
    "                                  #colsample_bytree = 0.1,\\\n",
    "                                  silent = True)\n",
    "model_control.fit(X_train_control_upsamp, Y_train_control_upsamp, eval_set=eval_set,\\\n",
    "                    eval_metric=\"auc\", verbose=True, early_stopping_rounds=30)"
   ]
  },
  {
   "cell_type": "code",
   "execution_count": 42,
   "metadata": {},
   "outputs": [
    {
     "name": "stdout",
     "output_type": "stream",
     "text": [
      "[0]\tvalidation_0-auc:0.890697\tvalidation_1-auc:0.649396\n",
      "Multiple eval metrics have been passed: 'validation_1-auc' will be used for early stopping.\n",
      "\n",
      "Will train until validation_1-auc hasn't improved in 30 rounds.\n",
      "[1]\tvalidation_0-auc:0.896733\tvalidation_1-auc:0.649055\n",
      "[2]\tvalidation_0-auc:0.905555\tvalidation_1-auc:0.653715\n",
      "[3]\tvalidation_0-auc:0.914605\tvalidation_1-auc:0.653078\n",
      "[4]\tvalidation_0-auc:0.916028\tvalidation_1-auc:0.655472\n",
      "[5]\tvalidation_0-auc:0.930728\tvalidation_1-auc:0.65128\n",
      "[6]\tvalidation_0-auc:0.937276\tvalidation_1-auc:0.648748\n",
      "[7]\tvalidation_0-auc:0.939903\tvalidation_1-auc:0.649826\n",
      "[8]\tvalidation_0-auc:0.941034\tvalidation_1-auc:0.648604\n",
      "[9]\tvalidation_0-auc:0.945493\tvalidation_1-auc:0.648523\n",
      "[10]\tvalidation_0-auc:0.952592\tvalidation_1-auc:0.649349\n",
      "[11]\tvalidation_0-auc:0.953901\tvalidation_1-auc:0.646883\n",
      "[12]\tvalidation_0-auc:0.960077\tvalidation_1-auc:0.646123\n",
      "[13]\tvalidation_0-auc:0.962863\tvalidation_1-auc:0.643048\n",
      "[14]\tvalidation_0-auc:0.963443\tvalidation_1-auc:0.642786\n",
      "[15]\tvalidation_0-auc:0.965412\tvalidation_1-auc:0.641856\n",
      "[16]\tvalidation_0-auc:0.965739\tvalidation_1-auc:0.642433\n",
      "[17]\tvalidation_0-auc:0.966674\tvalidation_1-auc:0.641306\n",
      "[18]\tvalidation_0-auc:0.96756\tvalidation_1-auc:0.640196\n",
      "[19]\tvalidation_0-auc:0.967954\tvalidation_1-auc:0.638115\n",
      "[20]\tvalidation_0-auc:0.968388\tvalidation_1-auc:0.639008\n",
      "[21]\tvalidation_0-auc:0.970794\tvalidation_1-auc:0.639924\n",
      "[22]\tvalidation_0-auc:0.971264\tvalidation_1-auc:0.640246\n",
      "[23]\tvalidation_0-auc:0.972306\tvalidation_1-auc:0.641463\n",
      "[24]\tvalidation_0-auc:0.973702\tvalidation_1-auc:0.641562\n",
      "[25]\tvalidation_0-auc:0.974774\tvalidation_1-auc:0.641553\n",
      "[26]\tvalidation_0-auc:0.976385\tvalidation_1-auc:0.641705\n",
      "[27]\tvalidation_0-auc:0.977167\tvalidation_1-auc:0.64091\n",
      "[28]\tvalidation_0-auc:0.978203\tvalidation_1-auc:0.641187\n",
      "[29]\tvalidation_0-auc:0.979046\tvalidation_1-auc:0.641611\n",
      "[30]\tvalidation_0-auc:0.980078\tvalidation_1-auc:0.641374\n",
      "[31]\tvalidation_0-auc:0.980504\tvalidation_1-auc:0.641775\n",
      "[32]\tvalidation_0-auc:0.98114\tvalidation_1-auc:0.642292\n",
      "[33]\tvalidation_0-auc:0.981555\tvalidation_1-auc:0.642485\n",
      "[34]\tvalidation_0-auc:0.982617\tvalidation_1-auc:0.641536\n",
      "Stopping. Best iteration:\n",
      "[4]\tvalidation_0-auc:0.916028\tvalidation_1-auc:0.655472\n",
      "\n"
     ]
    },
    {
     "data": {
      "text/plain": [
       "XGBClassifier(base_score=0.5, booster='gbtree', colsample_bylevel=1,\n",
       "       colsample_bytree=1, gamma=1, learning_rate=0.1, max_delta_step=0,\n",
       "       max_depth=7, min_child_weight=5, missing=None, n_estimators=100,\n",
       "       n_jobs=1, nthread=None, objective='binary:logistic', random_state=0,\n",
       "       reg_alpha=0, reg_lambda=1, scale_pos_weight=1, seed=42, silent=True,\n",
       "       subsample=1)"
      ]
     },
     "execution_count": 42,
     "metadata": {},
     "output_type": "execute_result"
    }
   ],
   "source": [
    "# train treatment model\n",
    "eval_set = [(X_train_exper_upsamp, Y_train_exper_upsamp), (X_valid_exper, Y_valid_exper)]\n",
    "model_exper = xgb.XGBClassifier(learning_rate = 0.1,\\\n",
    "                                max_depth = 7,\\\n",
    "                                min_child_weight = 5,\\\n",
    "                                objective = 'binary:logistic',\\\n",
    "                                seed = 42,\\\n",
    "                                gamma = 1,\\\n",
    "                                #colsample_bytree = 0.1,\\\n",
    "                                silent = True)\n",
    "model_exper.fit(X_train_exper_upsamp, Y_train_exper_upsamp, eval_set=eval_set,\\\n",
    "                eval_metric=\"auc\", verbose=True, early_stopping_rounds=30)"
   ]
  },
  {
   "cell_type": "code",
   "execution_count": 43,
   "metadata": {},
   "outputs": [],
   "source": [
    "# make predictions on the validation data sets for both models\n",
    "control_valid_pred = model_control.predict(X_valid_control, ntree_limit=model_control.best_ntree_limit)\n",
    "exper_valid_pred = model_exper.predict(X_valid_exper, ntree_limit=model_exper.best_ntree_limit)"
   ]
  },
  {
   "cell_type": "code",
   "execution_count": 44,
   "metadata": {},
   "outputs": [
    {
     "data": {
      "image/png": "[encoded data removed]",
      "text/plain": [
       "<matplotlib.figure.Figure at 0x10f3641d0>"
      ]
     },
     "metadata": {},
     "output_type": "display_data"
    }
   ],
   "source": [
    "# confusion marix for thge validation set\n",
    "valid_pred = model.predict(X_valid, ntree_limit=model.best_ntree_limit)\n",
    "cm = sk.metrics.confusion_matrix(Y_valid_control, control_valid_pred)\n",
    "\n",
    "fig, ax= plt.subplots(figsize=(10,10))\n",
    "sb.heatmap(cm, annot=True, fmt='g', ax = ax); #annot=True to annotate cells\n",
    "\n",
    "# labels, title and ticks\n",
    "ax.set_xlabel('Predicted labels');\n",
    "ax.set_ylabel('True labels'); \n",
    "ax.set_title('Confusion Matrix For Control Group'); \n",
    "ax.xaxis.set_ticklabels(['No Purchase', 'Made Purchase']); \n",
    "ax.yaxis.set_ticklabels(['No Purchase', 'Made Purchase']);"
   ]
  },
  {
   "cell_type": "code",
   "execution_count": 45,
   "metadata": {},
   "outputs": [
    {
     "data": {
      "image/png": "[encoded data removed]",
      "text/plain": [
       "<matplotlib.figure.Figure at 0x1a1d03b080>"
      ]
     },
     "metadata": {},
     "output_type": "display_data"
    }
   ],
   "source": [
    "# confusion marix for thge validation set\n",
    "valid_pred = model.predict(X_valid, ntree_limit=model.best_ntree_limit)\n",
    "cm = sk.metrics.confusion_matrix(Y_valid_exper, exper_valid_pred)\n",
    "\n",
    "fig, ax= plt.subplots(figsize=(10,10))\n",
    "sb.heatmap(cm, annot=True, fmt='g', ax = ax); #annot=True to annotate cells\n",
    "\n",
    "# labels, title and ticks\n",
    "ax.set_xlabel('Predicted labels');\n",
    "ax.set_ylabel('True labels'); \n",
    "ax.set_title('Confusion Matrix For Treatment Group'); \n",
    "ax.xaxis.set_ticklabels(['No Purchase', 'Made Purchase']); \n",
    "ax.yaxis.set_ticklabels(['No Purchase', 'Made Purchase']);"
   ]
  },
  {
   "cell_type": "code",
   "execution_count": 46,
   "metadata": {},
   "outputs": [],
   "source": [
    "def promotion_strategy(df):\n",
    "    '''\n",
    "    INPUT \n",
    "    df - a dataframe with *only* the columns V1 - V7 (same as train_data)\n",
    "\n",
    "    OUTPUT\n",
    "    promotion_df - np.array with the values\n",
    "                   'Yes' or 'No' related to whether or not an \n",
    "                   individual should recieve a promotion \n",
    "                   should be the length of df.shape[0]            \n",
    "    Ex:\n",
    "    INPUT: df\n",
    "    \n",
    "    V1\tV2\t  V3\tV4\tV5\tV6\tV7\n",
    "    2\t30\t-1.1\t1\t1\t3\t2\n",
    "    3\t32\t-0.6\t2\t3\t2\t2\n",
    "    2\t30\t0.13\t1\t1\t4\t2\n",
    "    \n",
    "    OUTPUT: promotion\n",
    "    \n",
    "    array(['Yes', 'Yes', 'No'])\n",
    "    indicating the first two users would recieve the promotion and \n",
    "    the last should not.\n",
    "    '''\n",
    "    test = df\n",
    "    \n",
    "    pred_probs_contol = model_control.predict_proba(test, ntree_limit=model_control.best_ntree_limit)\n",
    "\n",
    "    pred_probs_exper = model_exper.predict_proba(test, ntree_limit=model_exper.best_ntree_limit)\n",
    "\n",
    "    # get difference in probabilities between experimental and cpntrol model for purchase = 1 label\n",
    "    lift = pred_probs_exper[:,1] - pred_probs_contol[:,1]\n",
    "    \n",
    "    promotion = []\n",
    "    \n",
    "    # Only send promotions to top 3 percentile of probabilities\n",
    "    cutoff_lift = np.percentile(lift, 97)\n",
    "    \n",
    "    for prob in lift:\n",
    "        if prob > 0:\n",
    "            if prob > cutoff_lift:\n",
    "                promotion.append('Yes')\n",
    "        else:\n",
    "            promotion.append('No')\n",
    "\n",
    "    promotion = np.array(promotion)\n",
    "    \n",
    "    return promotion"
   ]
  },
  {
   "cell_type": "code",
   "execution_count": 47,
   "metadata": {},
   "outputs": [
    {
     "name": "stdout",
     "output_type": "stream",
     "text": [
      "Nice job!  See how well your strategy worked on our valid data below!\n",
      "\n",
      "Your irr with this strategy is 0.0044.\n",
      "\n",
      "Your nir with this strategy is -26.90.\n",
      "We came up with a model with an irr of 0.0188 and an nir of 189.45 on the test set.\n",
      "\n",
      " How did you do?\n"
     ]
    },
    {
     "data": {
      "text/plain": [
       "(0.004443183966723389, -26.9)"
      ]
     },
     "execution_count": 47,
     "metadata": {},
     "output_type": "execute_result"
    }
   ],
   "source": [
    "# find out irr and nlr on our validation set\n",
    "valid_results(promotion_strategy, valid)"
   ]
  },
  {
   "cell_type": "code",
   "execution_count": 48,
   "metadata": {},
   "outputs": [
    {
     "name": "stdout",
     "output_type": "stream",
     "text": [
      "Nice job!  See how well your strategy worked on our test data below!\n",
      "\n",
      "Your irr with this strategy is 0.0176.\n",
      "\n",
      "Your nir with this strategy is 12.70.\n",
      "We came up with a model with an irr of 0.0188 and an nir of 189.45 on the test set.\n",
      "\n",
      " How did you do?\n"
     ]
    },
    {
     "data": {
      "text/plain": [
       "(0.0176197886273747, 12.700000000000003)"
      ]
     },
     "execution_count": 48,
     "metadata": {},
     "output_type": "execute_result"
    }
   ],
   "source": [
    "# This will test your results, and provide you back some information \n",
    "# on how well your promotion_strategy will work in practice\n",
    "\n",
    "test_results(promotion_strategy)"
   ]
  },
  {
   "cell_type": "markdown",
   "metadata": {},
   "source": [
    "## Model 3: Using Treatment Dummy Approach\n",
    "\n",
    "In this approach, a single model is used to model the data. Unlike the approach used in the first model, this approach adds an additional indicator variable to track if an individual is in a treatment or control group during training. Any individuals who made purchases will be given a label of 1, irregradless of whether he or she is in the control or treatment group. \n",
    "\n",
    "To predict whether a new individual in a test set is likely to make a purhcase only after receiving a promotion, we can first calculate the probability that the individual will make a purchase if he or she is in the treatment group by setting the treatment indicator as 1. Next, we calculate the probability that the individual will make a purchase if he or she is in the control group by setting the treatment indicator as 0. The difference in the two probabilities will be the lift value, aka, how positively influenced the individual is as a result of the treatment (receiving promotion):\n",
    "\n",
    "$$Lift = P(purchase | I_{treat} = 1) - P(purchase |  I_{treat} = 0)$$\n",
    "\n",
    "We can opt to send promotions to individuals with prostive lift values. Using this approach for this dataset, an irr of 1.42\\% and an nlr of -\\\\$47.40 is obtained for the validation set. On the other hand, the irr and nlr values for the test set is 1.54\\% and \\\\$42.60 respectively. Such a drastic difference between the validation and test nlrs is certainly surprising. The test results does seem to suggest that this is could be a relatively good approach as well. Alternative models, new feature generation and alternative upsampling methods could be tried to improve the results. In addition, you can also choose to send promotions only to individuals with lift values above a certain percentile.\n",
    "\n",
    "This approach is a slight modification of the method proposed by Victor Lo in the previously mentioned presentation, which can be found [here](https://www.slideshare.net/odsc/victor-lomachinelearningpresentation). The original method proposes a logistic regression model."
   ]
  },
  {
   "cell_type": "code",
   "execution_count": 49,
   "metadata": {},
   "outputs": [],
   "source": [
    "train_data = pd.read_csv('./training.csv')\n",
    "test_data = pd.read_csv('./Test.csv')"
   ]
  },
  {
   "cell_type": "code",
   "execution_count": 50,
   "metadata": {},
   "outputs": [
    {
     "data": {
      "text/html": [
       "<div>\n",
       "<style scoped>\n",
       "    .dataframe tbody tr th:only-of-type {\n",
       "        vertical-align: middle;\n",
       "    }\n",
       "\n",
       "    .dataframe tbody tr th {\n",
       "        vertical-align: top;\n",
       "    }\n",
       "\n",
       "    .dataframe thead th {\n",
       "        text-align: right;\n",
       "    }\n",
       "</style>\n",
       "<table border=\"1\" class=\"dataframe\">\n",
       "  <thead>\n",
       "    <tr style=\"text-align: right;\">\n",
       "      <th></th>\n",
       "      <th>ID</th>\n",
       "      <th>Promotion</th>\n",
       "      <th>purchase</th>\n",
       "      <th>V1</th>\n",
       "      <th>V2</th>\n",
       "      <th>V3</th>\n",
       "      <th>V4</th>\n",
       "      <th>V5</th>\n",
       "      <th>V6</th>\n",
       "      <th>V7</th>\n",
       "      <th>treatment</th>\n",
       "    </tr>\n",
       "  </thead>\n",
       "  <tbody>\n",
       "    <tr>\n",
       "      <th>0</th>\n",
       "      <td>1</td>\n",
       "      <td>No</td>\n",
       "      <td>0</td>\n",
       "      <td>2</td>\n",
       "      <td>30.443518</td>\n",
       "      <td>-1.165083</td>\n",
       "      <td>1</td>\n",
       "      <td>1</td>\n",
       "      <td>3</td>\n",
       "      <td>2</td>\n",
       "      <td>0</td>\n",
       "    </tr>\n",
       "    <tr>\n",
       "      <th>1</th>\n",
       "      <td>3</td>\n",
       "      <td>No</td>\n",
       "      <td>0</td>\n",
       "      <td>3</td>\n",
       "      <td>32.159350</td>\n",
       "      <td>-0.645617</td>\n",
       "      <td>2</td>\n",
       "      <td>3</td>\n",
       "      <td>2</td>\n",
       "      <td>2</td>\n",
       "      <td>0</td>\n",
       "    </tr>\n",
       "    <tr>\n",
       "      <th>2</th>\n",
       "      <td>4</td>\n",
       "      <td>No</td>\n",
       "      <td>0</td>\n",
       "      <td>2</td>\n",
       "      <td>30.431659</td>\n",
       "      <td>0.133583</td>\n",
       "      <td>1</td>\n",
       "      <td>1</td>\n",
       "      <td>4</td>\n",
       "      <td>2</td>\n",
       "      <td>0</td>\n",
       "    </tr>\n",
       "    <tr>\n",
       "      <th>3</th>\n",
       "      <td>5</td>\n",
       "      <td>No</td>\n",
       "      <td>0</td>\n",
       "      <td>0</td>\n",
       "      <td>26.588914</td>\n",
       "      <td>-0.212728</td>\n",
       "      <td>2</td>\n",
       "      <td>1</td>\n",
       "      <td>4</td>\n",
       "      <td>2</td>\n",
       "      <td>0</td>\n",
       "    </tr>\n",
       "    <tr>\n",
       "      <th>4</th>\n",
       "      <td>8</td>\n",
       "      <td>Yes</td>\n",
       "      <td>0</td>\n",
       "      <td>3</td>\n",
       "      <td>28.044332</td>\n",
       "      <td>-0.385883</td>\n",
       "      <td>1</td>\n",
       "      <td>1</td>\n",
       "      <td>2</td>\n",
       "      <td>2</td>\n",
       "      <td>1</td>\n",
       "    </tr>\n",
       "  </tbody>\n",
       "</table>\n",
       "</div>"
      ],
      "text/plain": [
       "   ID Promotion  purchase  V1         V2        V3  V4  V5  V6  V7  treatment\n",
       "0   1        No         0   2  30.443518 -1.165083   1   1   3   2          0\n",
       "1   3        No         0   3  32.159350 -0.645617   2   3   2   2          0\n",
       "2   4        No         0   2  30.431659  0.133583   1   1   4   2          0\n",
       "3   5        No         0   0  26.588914 -0.212728   2   1   4   2          0\n",
       "4   8       Yes         0   3  28.044332 -0.385883   1   1   2   2          1"
      ]
     },
     "execution_count": 50,
     "metadata": {},
     "output_type": "execute_result"
    }
   ],
   "source": [
    "# encode Promotion as 0 or 1 indicator variable\n",
    "train_data['treatment'] = np.where(train_data['Promotion'] == \"Yes\", 1, 0)\n",
    "train_data.head()"
   ]
  },
  {
   "cell_type": "code",
   "execution_count": 51,
   "metadata": {},
   "outputs": [],
   "source": [
    "train, valid = sk.model_selection.train_test_split(train_data, test_size=0.2,random_state=42)\n",
    "\n",
    "features = ['V1', 'V2', 'V3', 'V4', 'V5', 'V6', 'V7', 'treatment']\n",
    "\n",
    "Y_train = train['purchase']\n",
    "X_train = train[features]\n",
    "\n",
    "Y_valid = valid['purchase']\n",
    "X_valid = valid[features]"
   ]
  },
  {
   "cell_type": "code",
   "execution_count": 52,
   "metadata": {},
   "outputs": [],
   "source": [
    "# up sample with SMOTE\n",
    "sm = SMOTE(random_state=42, ratio = 1.0)\n",
    "X_train_upsamp, Y_train_upsamp = sm.fit_sample(X_train, Y_train)\n",
    "    \n",
    "X_train_upsamp = pd.DataFrame(X_train_upsamp, columns=features)\n",
    "\n",
    "Y_train_upsamp = pd.Series(Y_train_upsamp)"
   ]
  },
  {
   "cell_type": "code",
   "execution_count": 53,
   "metadata": {},
   "outputs": [
    {
     "name": "stdout",
     "output_type": "stream",
     "text": [
      "[0]\tvalidation_0-auc:0.916298\tvalidation_1-auc:0.654634\n",
      "Multiple eval metrics have been passed: 'validation_1-auc' will be used for early stopping.\n",
      "\n",
      "Will train until validation_1-auc hasn't improved in 30 rounds.\n",
      "[1]\tvalidation_0-auc:0.919459\tvalidation_1-auc:0.660875\n",
      "[2]\tvalidation_0-auc:0.928347\tvalidation_1-auc:0.654825\n",
      "[3]\tvalidation_0-auc:0.932595\tvalidation_1-auc:0.645971\n",
      "[4]\tvalidation_0-auc:0.935008\tvalidation_1-auc:0.647883\n",
      "[5]\tvalidation_0-auc:0.934159\tvalidation_1-auc:0.646341\n",
      "[6]\tvalidation_0-auc:0.937256\tvalidation_1-auc:0.641421\n",
      "[7]\tvalidation_0-auc:0.943894\tvalidation_1-auc:0.641898\n",
      "[8]\tvalidation_0-auc:0.947674\tvalidation_1-auc:0.641579\n",
      "[9]\tvalidation_0-auc:0.951958\tvalidation_1-auc:0.642712\n",
      "[10]\tvalidation_0-auc:0.953071\tvalidation_1-auc:0.640663\n",
      "[11]\tvalidation_0-auc:0.955449\tvalidation_1-auc:0.639448\n",
      "[12]\tvalidation_0-auc:0.956925\tvalidation_1-auc:0.638436\n",
      "[13]\tvalidation_0-auc:0.95936\tvalidation_1-auc:0.639407\n",
      "[14]\tvalidation_0-auc:0.960672\tvalidation_1-auc:0.63744\n",
      "[15]\tvalidation_0-auc:0.960972\tvalidation_1-auc:0.636649\n",
      "[16]\tvalidation_0-auc:0.962412\tvalidation_1-auc:0.637587\n",
      "[17]\tvalidation_0-auc:0.963131\tvalidation_1-auc:0.638776\n",
      "[18]\tvalidation_0-auc:0.963589\tvalidation_1-auc:0.639236\n",
      "[19]\tvalidation_0-auc:0.967606\tvalidation_1-auc:0.639257\n",
      "[20]\tvalidation_0-auc:0.969436\tvalidation_1-auc:0.639405\n",
      "[21]\tvalidation_0-auc:0.970512\tvalidation_1-auc:0.638767\n",
      "[22]\tvalidation_0-auc:0.97158\tvalidation_1-auc:0.638043\n",
      "[23]\tvalidation_0-auc:0.973043\tvalidation_1-auc:0.63892\n",
      "[24]\tvalidation_0-auc:0.973686\tvalidation_1-auc:0.639095\n",
      "[25]\tvalidation_0-auc:0.974992\tvalidation_1-auc:0.638832\n",
      "[26]\tvalidation_0-auc:0.975753\tvalidation_1-auc:0.637656\n",
      "[27]\tvalidation_0-auc:0.976582\tvalidation_1-auc:0.637995\n",
      "[28]\tvalidation_0-auc:0.978426\tvalidation_1-auc:0.638516\n",
      "[29]\tvalidation_0-auc:0.979173\tvalidation_1-auc:0.638535\n",
      "[30]\tvalidation_0-auc:0.980162\tvalidation_1-auc:0.638635\n",
      "[31]\tvalidation_0-auc:0.980614\tvalidation_1-auc:0.63805\n",
      "Stopping. Best iteration:\n",
      "[1]\tvalidation_0-auc:0.919459\tvalidation_1-auc:0.660875\n",
      "\n"
     ]
    },
    {
     "data": {
      "text/plain": [
       "XGBClassifier(base_score=0.5, booster='gbtree', colsample_bylevel=1,\n",
       "       colsample_bytree=1, gamma=0.1, learning_rate=0.1, max_delta_step=0,\n",
       "       max_depth=7, min_child_weight=5, missing=None, n_estimators=100,\n",
       "       n_jobs=1, nthread=None, objective='binary:logistic', random_state=0,\n",
       "       reg_alpha=0, reg_lambda=1, scale_pos_weight=1, seed=42, silent=True,\n",
       "       subsample=1)"
      ]
     },
     "execution_count": 53,
     "metadata": {},
     "output_type": "execute_result"
    }
   ],
   "source": [
    "eval_set = [(X_train_upsamp, Y_train_upsamp), (X_valid, Y_valid)]\n",
    "model = xgb.XGBClassifier(learning_rate = 0.1,\\\n",
    "                                  max_depth = 7,\\\n",
    "                                  min_child_weight = 5,\\\n",
    "                                  objective = 'binary:logistic',\\\n",
    "                                  seed = 42,\\\n",
    "                                  gamma = 0.1,\\\n",
    "                                  silent = True)\n",
    "model.fit(X_train_upsamp, Y_train_upsamp, eval_set=eval_set,\\\n",
    "                    eval_metric=\"auc\", verbose=True, early_stopping_rounds=30)"
   ]
  },
  {
   "cell_type": "code",
   "execution_count": 54,
   "metadata": {},
   "outputs": [
    {
     "data": {
      "image/png": "[encoded data removed]",
      "text/plain": [
       "<matplotlib.figure.Figure at 0x1a1bdbb780>"
      ]
     },
     "metadata": {},
     "output_type": "display_data"
    }
   ],
   "source": [
    "# confusion marix for thge validation set\n",
    "valid_pred = model.predict(X_valid, ntree_limit=model.best_ntree_limit)\n",
    "cm = sk.metrics.confusion_matrix(Y_valid, valid_pred)\n",
    "\n",
    "fig, ax= plt.subplots(figsize=(10,10))\n",
    "sb.heatmap(cm, annot=True, fmt='g', ax = ax); #annot=True to annotate cells\n",
    "\n",
    "# labels, title and ticks\n",
    "ax.set_xlabel('Predicted labels');\n",
    "ax.set_ylabel('True labels'); \n",
    "ax.set_title('Confusion Matrix'); \n",
    "ax.xaxis.set_ticklabels(['No Purchase', 'Made Purchase']); \n",
    "ax.yaxis.set_ticklabels(['No Purchase', 'Made Purchase']);"
   ]
  },
  {
   "cell_type": "code",
   "execution_count": 55,
   "metadata": {},
   "outputs": [],
   "source": [
    "def promotion_strategy(df):\n",
    "    '''\n",
    "    INPUT \n",
    "    df - a dataframe with *only* the columns V1 - V7 (same as train_data)\n",
    "\n",
    "    OUTPUT\n",
    "    promotion_df - np.array with the values\n",
    "                   'Yes' or 'No' related to whether or not an \n",
    "                   individual should recieve a promotion \n",
    "                   should be the length of df.shape[0]\n",
    "                \n",
    "    Ex:\n",
    "    INPUT: df\n",
    "    \n",
    "    V1\tV2\t  V3\tV4\tV5\tV6\tV7\n",
    "    2\t30\t-1.1\t1\t1\t3\t2\n",
    "    3\t32\t-0.6\t2\t3\t2\t2\n",
    "    2\t30\t0.13\t1\t1\t4\t2\n",
    "    \n",
    "    OUTPUT: promotion\n",
    "    \n",
    "    array(['Yes', 'Yes', 'No'])\n",
    "    indicating the first two users would recieve the promotion and \n",
    "    the last should not.\n",
    "    '''\n",
    "    test = df\n",
    "    \n",
    "    # Fit a model with treatment = 1 for all data points\n",
    "    test['treatment'] = 1.0\n",
    "    preds_treat = model.predict_proba(test, ntree_limit=model.best_ntree_limit)\n",
    "    \n",
    "    # Fit a model with treatment = 0 for all data points\n",
    "    test['treatment'] = 0.0\n",
    "    preds_cont = model.predict_proba(test, ntree_limit=model.best_ntree_limit)\n",
    "    \n",
    "    lift = preds_treat[:,1] - preds_cont[:,1]\n",
    "    \n",
    "    promotion = []\n",
    "    \n",
    "    for prob in lift:\n",
    "        if prob > 0:\n",
    "            promotion.append('Yes')\n",
    "        else:\n",
    "            promotion.append('No')\n",
    "\n",
    "    promotion = np.array(promotion)\n",
    "    \n",
    "    return promotion"
   ]
  },
  {
   "cell_type": "code",
   "execution_count": 56,
   "metadata": {
    "scrolled": true
   },
   "outputs": [
    {
     "name": "stdout",
     "output_type": "stream",
     "text": [
      "Nice job!  See how well your strategy worked on our valid data below!\n",
      "\n",
      "Your irr with this strategy is 0.0142.\n",
      "\n",
      "Your nir with this strategy is -47.40.\n",
      "We came up with a model with an irr of 0.0188 and an nir of 189.45 on the test set.\n",
      "\n",
      " How did you do?\n"
     ]
    },
    {
     "name": "stderr",
     "output_type": "stream",
     "text": [
      "/anaconda3/lib/python3.6/site-packages/ipykernel_launcher.py:29: SettingWithCopyWarning: \n",
      "A value is trying to be set on a copy of a slice from a DataFrame.\n",
      "Try using .loc[row_indexer,col_indexer] = value instead\n",
      "\n",
      "See the caveats in the documentation: http://pandas.pydata.org/pandas-docs/stable/indexing.html#indexing-view-versus-copy\n",
      "/anaconda3/lib/python3.6/site-packages/ipykernel_launcher.py:33: SettingWithCopyWarning: \n",
      "A value is trying to be set on a copy of a slice from a DataFrame.\n",
      "Try using .loc[row_indexer,col_indexer] = value instead\n",
      "\n",
      "See the caveats in the documentation: http://pandas.pydata.org/pandas-docs/stable/indexing.html#indexing-view-versus-copy\n"
     ]
    },
    {
     "data": {
      "text/plain": [
       "(0.014177323450404136, -47.39999999999998)"
      ]
     },
     "execution_count": 56,
     "metadata": {},
     "output_type": "execute_result"
    }
   ],
   "source": [
    "# find out irr and nlr on our validation set\n",
    "valid_results(promotion_strategy, valid)"
   ]
  },
  {
   "cell_type": "code",
   "execution_count": 57,
   "metadata": {},
   "outputs": [
    {
     "name": "stdout",
     "output_type": "stream",
     "text": [
      "Nice job!  See how well your strategy worked on our test data below!\n",
      "\n",
      "Your irr with this strategy is 0.0154.\n",
      "\n",
      "Your nir with this strategy is 42.60.\n",
      "We came up with a model with an irr of 0.0188 and an nir of 189.45 on the test set.\n",
      "\n",
      " How did you do?\n"
     ]
    },
    {
     "name": "stderr",
     "output_type": "stream",
     "text": [
      "/anaconda3/lib/python3.6/site-packages/ipykernel_launcher.py:29: SettingWithCopyWarning: \n",
      "A value is trying to be set on a copy of a slice from a DataFrame.\n",
      "Try using .loc[row_indexer,col_indexer] = value instead\n",
      "\n",
      "See the caveats in the documentation: http://pandas.pydata.org/pandas-docs/stable/indexing.html#indexing-view-versus-copy\n",
      "/anaconda3/lib/python3.6/site-packages/ipykernel_launcher.py:33: SettingWithCopyWarning: \n",
      "A value is trying to be set on a copy of a slice from a DataFrame.\n",
      "Try using .loc[row_indexer,col_indexer] = value instead\n",
      "\n",
      "See the caveats in the documentation: http://pandas.pydata.org/pandas-docs/stable/indexing.html#indexing-view-versus-copy\n"
     ]
    },
    {
     "data": {
      "text/plain": [
       "(0.015416668070903982, 42.59999999999991)"
      ]
     },
     "execution_count": 57,
     "metadata": {},
     "output_type": "execute_result"
    }
   ],
   "source": [
    "# This will test your results, and provide you back some information \n",
    "# on how well your promotion_strategy will work in practice\n",
    "\n",
    "test_results(promotion_strategy)"
   ]
  },
  {
   "cell_type": "markdown",
   "metadata": {},
   "source": [
    "## Model 4: Four Quadrant Method\n",
    "\n",
    "Like model 3, this approach is first suggested by Victor Lo in the [presentation](https://www.slideshare.net/odsc/victor-lomachinelearningpresentation). It suggested designing a model to predict an individual's probability of being in any of the 4 groups: TR, CR, TN, CN.\n",
    "\n",
    "TR: Treatment and Responded. Basically received promotion and made a purchase\n",
    "CR: Control and Responded. Did not receive a promotion but made a purchase\n",
    "TN: Treatment and No Response. Received promotion but made no purchase\n",
    "CN: Control and No Response. Did not receive a promotion and made no purchase\n",
    "\n",
    "If an individual's TR probability is the highest among the four groups, it is likely that we will benefit by sending the individual a promotion to induce him or her to make a purchase.In other words, if for an individual:\n",
    "\n",
    "$$ max[P(TR), P(CR), P(TN), P(CN)] = P(TR)$$\n",
    "\n",
    "we should send a promotion.\n",
    "\n",
    "This model achieved an IRR of 1.56\\% and NLR of -\\\\$0.30 on the validation set, and an IRR of 1.55\\% and NLR of \\\\$5.90 on the test set. This model's performance among the validation and test set is relatively stable, but it certainly did not generate very favourable results. Still, it does seem to produce a small positive NLR on the test set.\n",
    "\n",
    "Alternative models, feature generation, and upsampling techniques can be tried to improve the results."
   ]
  },
  {
   "cell_type": "code",
   "execution_count": 58,
   "metadata": {},
   "outputs": [],
   "source": [
    "train_data = pd.read_csv('./training.csv')\n",
    "test_data = pd.read_csv('./Test.csv')"
   ]
  },
  {
   "cell_type": "code",
   "execution_count": 59,
   "metadata": {},
   "outputs": [
    {
     "data": {
      "text/html": [
       "<div>\n",
       "<style scoped>\n",
       "    .dataframe tbody tr th:only-of-type {\n",
       "        vertical-align: middle;\n",
       "    }\n",
       "\n",
       "    .dataframe tbody tr th {\n",
       "        vertical-align: top;\n",
       "    }\n",
       "\n",
       "    .dataframe thead th {\n",
       "        text-align: right;\n",
       "    }\n",
       "</style>\n",
       "<table border=\"1\" class=\"dataframe\">\n",
       "  <thead>\n",
       "    <tr style=\"text-align: right;\">\n",
       "      <th></th>\n",
       "      <th>ID</th>\n",
       "      <th>Promotion</th>\n",
       "      <th>purchase</th>\n",
       "      <th>V1</th>\n",
       "      <th>V2</th>\n",
       "      <th>V3</th>\n",
       "      <th>V4</th>\n",
       "      <th>V5</th>\n",
       "      <th>V6</th>\n",
       "      <th>V7</th>\n",
       "      <th>target</th>\n",
       "    </tr>\n",
       "  </thead>\n",
       "  <tbody>\n",
       "    <tr>\n",
       "      <th>0</th>\n",
       "      <td>1</td>\n",
       "      <td>No</td>\n",
       "      <td>0</td>\n",
       "      <td>2</td>\n",
       "      <td>30.443518</td>\n",
       "      <td>-1.165083</td>\n",
       "      <td>1</td>\n",
       "      <td>1</td>\n",
       "      <td>3</td>\n",
       "      <td>2</td>\n",
       "      <td>3</td>\n",
       "    </tr>\n",
       "    <tr>\n",
       "      <th>1</th>\n",
       "      <td>3</td>\n",
       "      <td>No</td>\n",
       "      <td>0</td>\n",
       "      <td>3</td>\n",
       "      <td>32.159350</td>\n",
       "      <td>-0.645617</td>\n",
       "      <td>2</td>\n",
       "      <td>3</td>\n",
       "      <td>2</td>\n",
       "      <td>2</td>\n",
       "      <td>3</td>\n",
       "    </tr>\n",
       "    <tr>\n",
       "      <th>2</th>\n",
       "      <td>4</td>\n",
       "      <td>No</td>\n",
       "      <td>0</td>\n",
       "      <td>2</td>\n",
       "      <td>30.431659</td>\n",
       "      <td>0.133583</td>\n",
       "      <td>1</td>\n",
       "      <td>1</td>\n",
       "      <td>4</td>\n",
       "      <td>2</td>\n",
       "      <td>3</td>\n",
       "    </tr>\n",
       "    <tr>\n",
       "      <th>3</th>\n",
       "      <td>5</td>\n",
       "      <td>No</td>\n",
       "      <td>0</td>\n",
       "      <td>0</td>\n",
       "      <td>26.588914</td>\n",
       "      <td>-0.212728</td>\n",
       "      <td>2</td>\n",
       "      <td>1</td>\n",
       "      <td>4</td>\n",
       "      <td>2</td>\n",
       "      <td>3</td>\n",
       "    </tr>\n",
       "    <tr>\n",
       "      <th>4</th>\n",
       "      <td>8</td>\n",
       "      <td>Yes</td>\n",
       "      <td>0</td>\n",
       "      <td>3</td>\n",
       "      <td>28.044332</td>\n",
       "      <td>-0.385883</td>\n",
       "      <td>1</td>\n",
       "      <td>1</td>\n",
       "      <td>2</td>\n",
       "      <td>2</td>\n",
       "      <td>2</td>\n",
       "    </tr>\n",
       "  </tbody>\n",
       "</table>\n",
       "</div>"
      ],
      "text/plain": [
       "   ID Promotion  purchase  V1         V2        V3  V4  V5  V6  V7  target\n",
       "0   1        No         0   2  30.443518 -1.165083   1   1   3   2       3\n",
       "1   3        No         0   3  32.159350 -0.645617   2   3   2   2       3\n",
       "2   4        No         0   2  30.431659  0.133583   1   1   4   2       3\n",
       "3   5        No         0   0  26.588914 -0.212728   2   1   4   2       3\n",
       "4   8       Yes         0   3  28.044332 -0.385883   1   1   2   2       2"
      ]
     },
     "execution_count": 59,
     "metadata": {},
     "output_type": "execute_result"
    }
   ],
   "source": [
    "target = []\n",
    "for index, row in train_data.iterrows():\n",
    "    if (row['Promotion'] == \"Yes\") & (row['purchase'] == 1):\n",
    "        # TR group\n",
    "        target.append(0)\n",
    "    elif (row['Promotion'] == \"No\") & (row['purchase'] == 1):\n",
    "        # CR group\n",
    "        target.append(1)\n",
    "    elif (row['Promotion'] == \"Yes\") & (row['purchase'] == 0):\n",
    "        # TN group\n",
    "        target.append(2)\n",
    "    else: #CN group\n",
    "        target.append(3)\n",
    "\n",
    "train_data['target'] = target\n",
    "train_data.head()"
   ]
  },
  {
   "cell_type": "code",
   "execution_count": 60,
   "metadata": {},
   "outputs": [],
   "source": [
    "train, valid = sk.model_selection.train_test_split(train_data, test_size=0.2,random_state=42)\n",
    "\n",
    "features = ['V1', 'V2', 'V3', 'V4', 'V5', 'V6', 'V7']\n",
    "\n",
    "Y_train = train['target']\n",
    "X_train = train[features]\n",
    "\n",
    "Y_valid = valid['target']\n",
    "X_valid = valid[features]"
   ]
  },
  {
   "cell_type": "code",
   "execution_count": 61,
   "metadata": {},
   "outputs": [
    {
     "data": {
      "text/plain": [
       "3    33444\n",
       "2    33351\n",
       "0      580\n",
       "1      252\n",
       "Name: target, dtype: int64"
      ]
     },
     "execution_count": 61,
     "metadata": {},
     "output_type": "execute_result"
    }
   ],
   "source": [
    "Y_train.value_counts()"
   ]
  },
  {
   "cell_type": "code",
   "execution_count": 62,
   "metadata": {},
   "outputs": [
    {
     "data": {
      "text/plain": [
       "3    33444\n",
       "2    33444\n",
       "1    33444\n",
       "0    33444\n",
       "dtype: int64"
      ]
     },
     "execution_count": 62,
     "metadata": {},
     "output_type": "execute_result"
    }
   ],
   "source": [
    "# up sample with SMOTE\n",
    "sm = SMOTE({0:33444, 1:33444, 2:33444, 3:33444}, random_state=42)\n",
    "X_train_upsamp, Y_train_upsamp = sm.fit_sample(X_train, Y_train)\n",
    "    \n",
    "X_train_upsamp = pd.DataFrame(X_train_upsamp, columns=features)\n",
    "\n",
    "Y_train_upsamp = pd.Series(Y_train_upsamp)\n",
    "Y_train_upsamp.value_counts()"
   ]
  },
  {
   "cell_type": "code",
   "execution_count": 63,
   "metadata": {},
   "outputs": [
    {
     "data": {
      "text/html": [
       "<div>\n",
       "<style scoped>\n",
       "    .dataframe tbody tr th:only-of-type {\n",
       "        vertical-align: middle;\n",
       "    }\n",
       "\n",
       "    .dataframe tbody tr th {\n",
       "        vertical-align: top;\n",
       "    }\n",
       "\n",
       "    .dataframe thead th {\n",
       "        text-align: right;\n",
       "    }\n",
       "</style>\n",
       "<table border=\"1\" class=\"dataframe\">\n",
       "  <thead>\n",
       "    <tr style=\"text-align: right;\">\n",
       "      <th></th>\n",
       "      <th>V1</th>\n",
       "      <th>V2</th>\n",
       "      <th>V3</th>\n",
       "      <th>V4</th>\n",
       "      <th>V5</th>\n",
       "      <th>V6</th>\n",
       "      <th>V7</th>\n",
       "    </tr>\n",
       "  </thead>\n",
       "  <tbody>\n",
       "    <tr>\n",
       "      <th>0</th>\n",
       "      <td>3.0</td>\n",
       "      <td>34.470493</td>\n",
       "      <td>-1.078506</td>\n",
       "      <td>1.0</td>\n",
       "      <td>1.0</td>\n",
       "      <td>1.0</td>\n",
       "      <td>2.0</td>\n",
       "    </tr>\n",
       "    <tr>\n",
       "      <th>1</th>\n",
       "      <td>1.0</td>\n",
       "      <td>28.065819</td>\n",
       "      <td>-1.165083</td>\n",
       "      <td>1.0</td>\n",
       "      <td>1.0</td>\n",
       "      <td>3.0</td>\n",
       "      <td>1.0</td>\n",
       "    </tr>\n",
       "    <tr>\n",
       "      <th>2</th>\n",
       "      <td>1.0</td>\n",
       "      <td>27.142590</td>\n",
       "      <td>-1.511395</td>\n",
       "      <td>1.0</td>\n",
       "      <td>3.0</td>\n",
       "      <td>3.0</td>\n",
       "      <td>2.0</td>\n",
       "    </tr>\n",
       "    <tr>\n",
       "      <th>3</th>\n",
       "      <td>3.0</td>\n",
       "      <td>28.782344</td>\n",
       "      <td>-1.078506</td>\n",
       "      <td>1.0</td>\n",
       "      <td>1.0</td>\n",
       "      <td>1.0</td>\n",
       "      <td>2.0</td>\n",
       "    </tr>\n",
       "    <tr>\n",
       "      <th>4</th>\n",
       "      <td>2.0</td>\n",
       "      <td>39.605508</td>\n",
       "      <td>-0.645617</td>\n",
       "      <td>2.0</td>\n",
       "      <td>3.0</td>\n",
       "      <td>1.0</td>\n",
       "      <td>2.0</td>\n",
       "    </tr>\n",
       "  </tbody>\n",
       "</table>\n",
       "</div>"
      ],
      "text/plain": [
       "    V1         V2        V3   V4   V5   V6   V7\n",
       "0  3.0  34.470493 -1.078506  1.0  1.0  1.0  2.0\n",
       "1  1.0  28.065819 -1.165083  1.0  1.0  3.0  1.0\n",
       "2  1.0  27.142590 -1.511395  1.0  3.0  3.0  2.0\n",
       "3  3.0  28.782344 -1.078506  1.0  1.0  1.0  2.0\n",
       "4  2.0  39.605508 -0.645617  2.0  3.0  1.0  2.0"
      ]
     },
     "execution_count": 63,
     "metadata": {},
     "output_type": "execute_result"
    }
   ],
   "source": [
    "X_train_upsamp.head()"
   ]
  },
  {
   "cell_type": "code",
   "execution_count": 64,
   "metadata": {},
   "outputs": [
    {
     "name": "stdout",
     "output_type": "stream",
     "text": [
      "[0]\tvalidation_0-mlogloss:1.33954\tvalidation_1-mlogloss:1.35545\n",
      "Multiple eval metrics have been passed: 'validation_1-mlogloss' will be used for early stopping.\n",
      "\n",
      "Will train until validation_1-mlogloss hasn't improved in 30 rounds.\n",
      "[1]\tvalidation_0-mlogloss:1.2983\tvalidation_1-mlogloss:1.32799\n",
      "[2]\tvalidation_0-mlogloss:1.26209\tvalidation_1-mlogloss:1.30371\n",
      "[3]\tvalidation_0-mlogloss:1.22944\tvalidation_1-mlogloss:1.28116\n",
      "[4]\tvalidation_0-mlogloss:1.19955\tvalidation_1-mlogloss:1.26115\n",
      "[5]\tvalidation_0-mlogloss:1.17269\tvalidation_1-mlogloss:1.24233\n",
      "[6]\tvalidation_0-mlogloss:1.14754\tvalidation_1-mlogloss:1.22489\n",
      "[7]\tvalidation_0-mlogloss:1.12463\tvalidation_1-mlogloss:1.20859\n",
      "[8]\tvalidation_0-mlogloss:1.10321\tvalidation_1-mlogloss:1.19388\n",
      "[9]\tvalidation_0-mlogloss:1.08088\tvalidation_1-mlogloss:1.1792\n",
      "[10]\tvalidation_0-mlogloss:1.06147\tvalidation_1-mlogloss:1.16579\n",
      "[11]\tvalidation_0-mlogloss:1.04484\tvalidation_1-mlogloss:1.1538\n",
      "[12]\tvalidation_0-mlogloss:1.02803\tvalidation_1-mlogloss:1.1426\n",
      "[13]\tvalidation_0-mlogloss:1.01273\tvalidation_1-mlogloss:1.13221\n",
      "[14]\tvalidation_0-mlogloss:0.99724\tvalidation_1-mlogloss:1.12212\n",
      "[15]\tvalidation_0-mlogloss:0.983098\tvalidation_1-mlogloss:1.11212\n",
      "[16]\tvalidation_0-mlogloss:0.96909\tvalidation_1-mlogloss:1.10295\n",
      "[17]\tvalidation_0-mlogloss:0.955908\tvalidation_1-mlogloss:1.09363\n",
      "[18]\tvalidation_0-mlogloss:0.946758\tvalidation_1-mlogloss:1.08715\n",
      "[19]\tvalidation_0-mlogloss:0.935392\tvalidation_1-mlogloss:1.07961\n",
      "[20]\tvalidation_0-mlogloss:0.925096\tvalidation_1-mlogloss:1.07285\n",
      "[21]\tvalidation_0-mlogloss:0.913896\tvalidation_1-mlogloss:1.06464\n",
      "[22]\tvalidation_0-mlogloss:0.905877\tvalidation_1-mlogloss:1.05929\n",
      "[23]\tvalidation_0-mlogloss:0.897047\tvalidation_1-mlogloss:1.05348\n",
      "[24]\tvalidation_0-mlogloss:0.888481\tvalidation_1-mlogloss:1.04775\n",
      "[25]\tvalidation_0-mlogloss:0.881324\tvalidation_1-mlogloss:1.04245\n",
      "[26]\tvalidation_0-mlogloss:0.874555\tvalidation_1-mlogloss:1.0376\n",
      "[27]\tvalidation_0-mlogloss:0.867752\tvalidation_1-mlogloss:1.03308\n",
      "[28]\tvalidation_0-mlogloss:0.860527\tvalidation_1-mlogloss:1.02819\n",
      "[29]\tvalidation_0-mlogloss:0.852879\tvalidation_1-mlogloss:1.02327\n",
      "[30]\tvalidation_0-mlogloss:0.845281\tvalidation_1-mlogloss:1.01835\n",
      "[31]\tvalidation_0-mlogloss:0.838475\tvalidation_1-mlogloss:1.01378\n",
      "[32]\tvalidation_0-mlogloss:0.829545\tvalidation_1-mlogloss:1.00826\n",
      "[33]\tvalidation_0-mlogloss:0.823307\tvalidation_1-mlogloss:1.00437\n",
      "[34]\tvalidation_0-mlogloss:0.817544\tvalidation_1-mlogloss:0.99975\n",
      "[35]\tvalidation_0-mlogloss:0.809364\tvalidation_1-mlogloss:0.994822\n",
      "[36]\tvalidation_0-mlogloss:0.804622\tvalidation_1-mlogloss:0.991397\n",
      "[37]\tvalidation_0-mlogloss:0.798076\tvalidation_1-mlogloss:0.987732\n",
      "[38]\tvalidation_0-mlogloss:0.792094\tvalidation_1-mlogloss:0.983779\n",
      "[39]\tvalidation_0-mlogloss:0.786908\tvalidation_1-mlogloss:0.980318\n",
      "[40]\tvalidation_0-mlogloss:0.779521\tvalidation_1-mlogloss:0.975879\n",
      "[41]\tvalidation_0-mlogloss:0.774077\tvalidation_1-mlogloss:0.972274\n",
      "[42]\tvalidation_0-mlogloss:0.768423\tvalidation_1-mlogloss:0.968661\n",
      "[43]\tvalidation_0-mlogloss:0.764131\tvalidation_1-mlogloss:0.965669\n",
      "[44]\tvalidation_0-mlogloss:0.759445\tvalidation_1-mlogloss:0.962316\n",
      "[45]\tvalidation_0-mlogloss:0.754815\tvalidation_1-mlogloss:0.959424\n",
      "[46]\tvalidation_0-mlogloss:0.750164\tvalidation_1-mlogloss:0.95656\n",
      "[47]\tvalidation_0-mlogloss:0.745059\tvalidation_1-mlogloss:0.953595\n",
      "[48]\tvalidation_0-mlogloss:0.740892\tvalidation_1-mlogloss:0.950999\n",
      "[49]\tvalidation_0-mlogloss:0.736913\tvalidation_1-mlogloss:0.948409\n",
      "[50]\tvalidation_0-mlogloss:0.732499\tvalidation_1-mlogloss:0.945557\n",
      "[51]\tvalidation_0-mlogloss:0.729336\tvalidation_1-mlogloss:0.943455\n",
      "[52]\tvalidation_0-mlogloss:0.725245\tvalidation_1-mlogloss:0.940622\n",
      "[53]\tvalidation_0-mlogloss:0.719495\tvalidation_1-mlogloss:0.937613\n",
      "[54]\tvalidation_0-mlogloss:0.716662\tvalidation_1-mlogloss:0.935774\n",
      "[55]\tvalidation_0-mlogloss:0.711495\tvalidation_1-mlogloss:0.93262\n",
      "[56]\tvalidation_0-mlogloss:0.708209\tvalidation_1-mlogloss:0.930845\n",
      "[57]\tvalidation_0-mlogloss:0.704506\tvalidation_1-mlogloss:0.928816\n",
      "[58]\tvalidation_0-mlogloss:0.69959\tvalidation_1-mlogloss:0.926361\n",
      "[59]\tvalidation_0-mlogloss:0.696255\tvalidation_1-mlogloss:0.924242\n",
      "[60]\tvalidation_0-mlogloss:0.692711\tvalidation_1-mlogloss:0.922169\n",
      "[61]\tvalidation_0-mlogloss:0.689538\tvalidation_1-mlogloss:0.920202\n",
      "[62]\tvalidation_0-mlogloss:0.686844\tvalidation_1-mlogloss:0.918526\n",
      "[63]\tvalidation_0-mlogloss:0.68351\tvalidation_1-mlogloss:0.916667\n",
      "[64]\tvalidation_0-mlogloss:0.680122\tvalidation_1-mlogloss:0.914342\n",
      "[65]\tvalidation_0-mlogloss:0.677663\tvalidation_1-mlogloss:0.912673\n",
      "[66]\tvalidation_0-mlogloss:0.675438\tvalidation_1-mlogloss:0.911167\n",
      "[67]\tvalidation_0-mlogloss:0.673056\tvalidation_1-mlogloss:0.909753\n",
      "[68]\tvalidation_0-mlogloss:0.670671\tvalidation_1-mlogloss:0.908178\n",
      "[69]\tvalidation_0-mlogloss:0.667602\tvalidation_1-mlogloss:0.906705\n",
      "[70]\tvalidation_0-mlogloss:0.664977\tvalidation_1-mlogloss:0.905225\n",
      "[71]\tvalidation_0-mlogloss:0.661948\tvalidation_1-mlogloss:0.903394\n",
      "[72]\tvalidation_0-mlogloss:0.659966\tvalidation_1-mlogloss:0.902004\n",
      "[73]\tvalidation_0-mlogloss:0.657174\tvalidation_1-mlogloss:0.900601\n",
      "[74]\tvalidation_0-mlogloss:0.654812\tvalidation_1-mlogloss:0.899192\n",
      "[75]\tvalidation_0-mlogloss:0.652282\tvalidation_1-mlogloss:0.89774\n",
      "[76]\tvalidation_0-mlogloss:0.649831\tvalidation_1-mlogloss:0.896605\n",
      "[77]\tvalidation_0-mlogloss:0.647298\tvalidation_1-mlogloss:0.895239\n",
      "[78]\tvalidation_0-mlogloss:0.645362\tvalidation_1-mlogloss:0.893972\n",
      "[79]\tvalidation_0-mlogloss:0.643249\tvalidation_1-mlogloss:0.893005\n",
      "[80]\tvalidation_0-mlogloss:0.640102\tvalidation_1-mlogloss:0.891507\n",
      "[81]\tvalidation_0-mlogloss:0.638083\tvalidation_1-mlogloss:0.89039\n",
      "[82]\tvalidation_0-mlogloss:0.636497\tvalidation_1-mlogloss:0.889365\n",
      "[83]\tvalidation_0-mlogloss:0.633313\tvalidation_1-mlogloss:0.888026\n",
      "[84]\tvalidation_0-mlogloss:0.631383\tvalidation_1-mlogloss:0.887008\n",
      "[85]\tvalidation_0-mlogloss:0.628956\tvalidation_1-mlogloss:0.885708\n",
      "[86]\tvalidation_0-mlogloss:0.627386\tvalidation_1-mlogloss:0.884844\n",
      "[87]\tvalidation_0-mlogloss:0.625224\tvalidation_1-mlogloss:0.883796\n",
      "[88]\tvalidation_0-mlogloss:0.623572\tvalidation_1-mlogloss:0.882834\n",
      "[89]\tvalidation_0-mlogloss:0.620817\tvalidation_1-mlogloss:0.881773\n",
      "[90]\tvalidation_0-mlogloss:0.619187\tvalidation_1-mlogloss:0.880856\n",
      "[91]\tvalidation_0-mlogloss:0.617555\tvalidation_1-mlogloss:0.879949\n",
      "[92]\tvalidation_0-mlogloss:0.61624\tvalidation_1-mlogloss:0.87913\n",
      "[93]\tvalidation_0-mlogloss:0.613395\tvalidation_1-mlogloss:0.878075\n",
      "[94]\tvalidation_0-mlogloss:0.610128\tvalidation_1-mlogloss:0.877068\n",
      "[95]\tvalidation_0-mlogloss:0.60669\tvalidation_1-mlogloss:0.875969\n",
      "[96]\tvalidation_0-mlogloss:0.605413\tvalidation_1-mlogloss:0.875113\n",
      "[97]\tvalidation_0-mlogloss:0.602165\tvalidation_1-mlogloss:0.873854\n",
      "[98]\tvalidation_0-mlogloss:0.600935\tvalidation_1-mlogloss:0.873025\n",
      "[99]\tvalidation_0-mlogloss:0.59961\tvalidation_1-mlogloss:0.872295\n"
     ]
    },
    {
     "data": {
      "text/plain": [
       "XGBClassifier(base_score=0.5, booster='gbtree', colsample_bylevel=1,\n",
       "       colsample_bytree=1, gamma=0.1, learning_rate=0.1, max_delta_step=0,\n",
       "       max_depth=7, min_child_weight=5, missing=None, n_estimators=100,\n",
       "       n_jobs=1, nthread=None, num_class=4, objective='multi:softprob',\n",
       "       random_state=0, reg_alpha=0, reg_lambda=1, scale_pos_weight=1,\n",
       "       seed=42, silent=True, subsample=1)"
      ]
     },
     "execution_count": 64,
     "metadata": {},
     "output_type": "execute_result"
    }
   ],
   "source": [
    "eval_set = [(X_train_upsamp, Y_train_upsamp), (X_valid, Y_valid)]\n",
    "model = xgb.XGBClassifier(learning_rate = 0.1,\\\n",
    "                          num_class=4,\\\n",
    "                                  max_depth = 7,\\\n",
    "                                  min_child_weight = 5,\\\n",
    "                                  objective = 'multi:softmax',\\\n",
    "                                  seed = 42,\\\n",
    "                                  gamma = 0.1,\\\n",
    "                                  silent = True)\n",
    "model.fit(X_train_upsamp, Y_train_upsamp, eval_set=eval_set,\\\n",
    "                    eval_metric=\"mlogloss\", verbose=True, early_stopping_rounds=30)"
   ]
  },
  {
   "cell_type": "code",
   "execution_count": 65,
   "metadata": {},
   "outputs": [
    {
     "data": {
      "image/png": "[encoded data removed]",
      "text/plain": [
       "<matplotlib.figure.Figure at 0x1a1bdeccc0>"
      ]
     },
     "metadata": {},
     "output_type": "display_data"
    }
   ],
   "source": [
    "# confusion marix for thge validation set\n",
    "# Note:\n",
    "# TR: treatment and respond group (received promotion and made purchase)\n",
    "# CR: control and respond group (did not receive promotion but made purchase)\n",
    "# TN: treatment and no respond group (received promotion but did not made purchase)\n",
    "# CR: control and no respond group (did not receive promotion and made no purchase)\n",
    "valid_pred = model.predict(X_valid, ntree_limit=model.best_ntree_limit)\n",
    "cm = sk.metrics.confusion_matrix(Y_valid, valid_pred)\n",
    "\n",
    "fig, ax= plt.subplots(figsize=(10,10))\n",
    "sb.heatmap(cm, annot=True, fmt='g', ax = ax); #annot=True to annotate cells\n",
    "\n",
    "# labels, title and ticks\n",
    "ax.set_xlabel('Predicted labels');\n",
    "ax.set_ylabel('True labels'); \n",
    "ax.set_title('Confusion Matrix'); \n",
    "ax.xaxis.set_ticklabels(['TR', 'CR', 'TN', 'CN']); \n",
    "ax.yaxis.set_ticklabels(['TR', 'CR', 'TN', 'CN']);"
   ]
  },
  {
   "cell_type": "code",
   "execution_count": 66,
   "metadata": {},
   "outputs": [],
   "source": [
    "def promotion_strategy(df):\n",
    "    '''\n",
    "    INPUT \n",
    "    df - a dataframe with *only* the columns V1 - V7 (same as train_data)\n",
    "\n",
    "    OUTPUT\n",
    "    promotion_df - np.array with the values\n",
    "                   'Yes' or 'No' related to whether or not an \n",
    "                   individual should recieve a promotion \n",
    "                   should be the length of df.shape[0]\n",
    "                \n",
    "    Ex:\n",
    "    INPUT: df\n",
    "    \n",
    "    V1\tV2\t  V3\tV4\tV5\tV6\tV7\n",
    "    2\t30\t-1.1\t1\t1\t3\t2\n",
    "    3\t32\t-0.6\t2\t3\t2\t2\n",
    "    2\t30\t0.13\t1\t1\t4\t2\n",
    "    \n",
    "    OUTPUT: promotion\n",
    "    \n",
    "    array(['Yes', 'Yes', 'No'])\n",
    "    indicating the first two users would recieve the promotion and \n",
    "    the last should not.\n",
    "    '''\n",
    "    test = df\n",
    "    \n",
    "    pred = model.predict(test, ntree_limit=model.best_ntree_limit)\n",
    "    \n",
    "    promotion = []\n",
    "    \n",
    "    for pred in pred:\n",
    "        if pred == 0:\n",
    "            promotion.append('Yes')\n",
    "        else:\n",
    "            promotion.append('No')\n",
    "    \n",
    "    promotion = np.array(promotion)\n",
    "    \n",
    "    return promotion"
   ]
  },
  {
   "cell_type": "code",
   "execution_count": 67,
   "metadata": {},
   "outputs": [
    {
     "name": "stdout",
     "output_type": "stream",
     "text": [
      "Nice job!  See how well your strategy worked on our valid data below!\n",
      "\n",
      "Your irr with this strategy is 0.0156.\n",
      "\n",
      "Your nir with this strategy is -0.30.\n",
      "We came up with a model with an irr of 0.0188 and an nir of 189.45 on the test set.\n",
      "\n",
      " How did you do?\n"
     ]
    },
    {
     "data": {
      "text/plain": [
       "(0.01561787977960976, -0.29999999999999716)"
      ]
     },
     "execution_count": 67,
     "metadata": {},
     "output_type": "execute_result"
    }
   ],
   "source": [
    "# find out irr and nlr on our validation set\n",
    "valid_results(promotion_strategy, valid)"
   ]
  },
  {
   "cell_type": "code",
   "execution_count": 68,
   "metadata": {},
   "outputs": [
    {
     "name": "stdout",
     "output_type": "stream",
     "text": [
      "Nice job!  See how well your strategy worked on our test data below!\n",
      "\n",
      "Your irr with this strategy is 0.0155.\n",
      "\n",
      "Your nir with this strategy is 5.90.\n",
      "We came up with a model with an irr of 0.0188 and an nir of 189.45 on the test set.\n",
      "\n",
      " How did you do?\n"
     ]
    },
    {
     "data": {
      "text/plain": [
       "(0.015464544490973224, 5.900000000000006)"
      ]
     },
     "execution_count": 68,
     "metadata": {},
     "output_type": "execute_result"
    }
   ],
   "source": [
    "# This will test your results, and provide you back some information \n",
    "# on how well your promotion_strategy will work in practice\n",
    "\n",
    "test_results(promotion_strategy)"
   ]
  },
  {
   "cell_type": "code",
   "execution_count": null,
   "metadata": {},
   "outputs": [],
   "source": []
  }
 ],
 "metadata": {
  "kernelspec": {
   "display_name": "Python 3",
   "language": "python",
   "name": "python3"
  },
  "language_info": {
   "codemirror_mode": {
    "name": "ipython",
    "version": 3
   },
   "file_extension": ".py",
   "mimetype": "text/x-python",
   "name": "python",
   "nbconvert_exporter": "python",
   "pygments_lexer": "ipython3",
   "version": "3.6.4"
  }
 },
 "nbformat": 4,
 "nbformat_minor": 2
}
